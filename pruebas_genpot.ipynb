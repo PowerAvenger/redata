{
 "cells": [
  {
   "cell_type": "code",
   "execution_count": 1,
   "metadata": {},
   "outputs": [],
   "source": [
    "import requests\n",
    "import pandas as pd\n",
    "import plotly.express as px\n",
    "import plotly.graph_objects as go\n",
    "from datetime import datetime"
   ]
  },
  {
   "cell_type": "code",
   "execution_count": 2,
   "metadata": {},
   "outputs": [
    {
     "data": {
      "text/plain": [
       "(datetime.date(2024, 11, 17), 11, 2024)"
      ]
     },
     "execution_count": 2,
     "metadata": {},
     "output_type": "execute_result"
    }
   ],
   "source": [
    "fecha_hoy=datetime.now().date()\n",
    "mes_hoy=fecha_hoy.month\n",
    "año_hoy=fecha_hoy.year\n",
    "fecha_hoy,mes_hoy,año_hoy"
   ]
  },
  {
   "cell_type": "code",
   "execution_count": null,
   "metadata": {},
   "outputs": [],
   "source": []
  },
  {
   "cell_type": "code",
   "execution_count": 3,
   "metadata": {},
   "outputs": [],
   "source": [
    "start_date='2024-01-01'\n",
    "end_date='2024-10-31'\n",
    "category='generacion'\n",
    "widget_gen='estructura-generacion'\n",
    "widget_pot='potencia-instalada'\n",
    "time_trunc='month'\n",
    "start_dt = datetime.strptime(start_date, '%Y-%m-%d')\n",
    "end_dt = datetime.strptime(end_date, '%Y-%m-%d')\n",
    "horas=((end_dt-start_dt).days+1)*24\n",
    "horas_año=8760\n",
    "horas_proporcional=horas/horas_año\n",
    "horas_tec_teoricas={\n",
    "    'Ciclo combinado' : 6000,\n",
    "    'Nuclear' : 8760,\n",
    "    'Solar fotovoltaica' : 2000,\n",
    "    'Eólica' : 2200,\n",
    "    'Hidráulica' : 4000,\n",
    "    'Cogeneración' : 7000,\n",
    "    'Turbinación bombeo' : 2000\n",
    "}\n",
    "#geo_trunc='electric_system' #no hay más disponibles"
   ]
  },
  {
   "cell_type": "code",
   "execution_count": 4,
   "metadata": {},
   "outputs": [],
   "source": [
    "def download_redata(category,widget,start_date,end_date,time_trunc): #,geo_trunc):\n",
    "    column_mapping = {\n",
    "        \"estructura-generacion\": {\"valor\": \"gen_TWh\", \"porcentaje\": \"porc_gen\", \"coef\":1000000},\n",
    "        \"potencia-instalada\": {\"valor\": \"pot_GW\", \"porcentaje\": \"porc_pot\", \"coef\": 1000}\n",
    "    }\n",
    "    \n",
    "    end_point='https://apidatos.ree.es/es/datos'\n",
    "    url=f'{end_point}/{category}/{widget}?start_date={start_date}T00:00&end_date={end_date}T23:59&time_trunc={time_trunc}'\n",
    "    request=requests.get(url)\n",
    "    data=request.json()\n",
    "    datos = []\n",
    "    for tech in data[\"included\"]:\n",
    "        tech_name = tech[\"attributes\"][\"title\"]\n",
    "        for entry in tech[\"attributes\"][\"values\"]:\n",
    "            datos.append({\"mes\": entry[\"datetime\"], \"tecnologia\": tech_name, \"valor\": entry[\"value\"],\"porcentaje\":entry[\"percentage\"]})\n",
    "\n",
    "    # Convertir a DataFrame\n",
    "    df_in_gen = pd.DataFrame(datos)\n",
    "    df_in_gen['mes']=pd.to_datetime(df_in_gen['mes'], utc=True).dt.tz_convert('Europe/Madrid').dt.tz_localize(None)\n",
    "    df_in_gen['mes_num']=df_in_gen['mes'].dt.month\n",
    "    coef = column_mapping[widget][\"coef\"]\n",
    "    df_in_gen['valor']=df_in_gen['valor']/coef\n",
    "    if widget in column_mapping:\n",
    "        df_in_gen.rename(columns={\n",
    "            \"valor\": column_mapping[widget][\"valor\"],\n",
    "            \"porcentaje\": column_mapping[widget][\"porcentaje\"]\n",
    "        }, inplace=True)\n",
    "    \n",
    "    return df_in_gen\n"
   ]
  },
  {
   "cell_type": "code",
   "execution_count": 5,
   "metadata": {},
   "outputs": [],
   "source": [
    "df_in_gen=download_redata(category,widget_gen,start_date,end_date,time_trunc)"
   ]
  },
  {
   "cell_type": "code",
   "execution_count": 6,
   "metadata": {},
   "outputs": [],
   "source": [
    "df_in_pot=download_redata(category,widget_pot,start_date,end_date,time_trunc)"
   ]
  },
  {
   "cell_type": "code",
   "execution_count": 7,
   "metadata": {},
   "outputs": [],
   "source": [
    "df_in=pd.merge(df_in_gen,df_in_pot, on=['mes', 'mes_num','tecnologia'], how='outer',)\n",
    "df_in['horas_gen']=round(df_in['gen_TWh']*1000/df_in['pot_GW'],1)\n",
    "df_in['gen_TWh']=round(df_in['gen_TWh'],1)\n",
    "df_in['pot_GW']=round(df_in['pot_GW'],1)"
   ]
  },
  {
   "cell_type": "code",
   "execution_count": 8,
   "metadata": {},
   "outputs": [
    {
     "data": {
      "text/html": [
       "<div>\n",
       "<style scoped>\n",
       "    .dataframe tbody tr th:only-of-type {\n",
       "        vertical-align: middle;\n",
       "    }\n",
       "\n",
       "    .dataframe tbody tr th {\n",
       "        vertical-align: top;\n",
       "    }\n",
       "\n",
       "    .dataframe thead th {\n",
       "        text-align: right;\n",
       "    }\n",
       "</style>\n",
       "<table border=\"1\" class=\"dataframe\">\n",
       "  <thead>\n",
       "    <tr style=\"text-align: right;\">\n",
       "      <th></th>\n",
       "      <th>mes</th>\n",
       "      <th>tecnologia</th>\n",
       "      <th>gen_TWh</th>\n",
       "      <th>porc_gen</th>\n",
       "      <th>mes_num</th>\n",
       "      <th>pot_GW</th>\n",
       "      <th>porc_pot</th>\n",
       "      <th>horas_gen</th>\n",
       "    </tr>\n",
       "  </thead>\n",
       "  <tbody>\n",
       "    <tr>\n",
       "      <th>0</th>\n",
       "      <td>2024-01-01</td>\n",
       "      <td>Hidráulica</td>\n",
       "      <td>3.9</td>\n",
       "      <td>0.166650</td>\n",
       "      <td>1</td>\n",
       "      <td>17.1</td>\n",
       "      <td>0.136531</td>\n",
       "      <td>228.2</td>\n",
       "    </tr>\n",
       "    <tr>\n",
       "      <th>1</th>\n",
       "      <td>2024-02-01</td>\n",
       "      <td>Hidráulica</td>\n",
       "      <td>3.0</td>\n",
       "      <td>0.134581</td>\n",
       "      <td>2</td>\n",
       "      <td>17.1</td>\n",
       "      <td>0.136138</td>\n",
       "      <td>174.5</td>\n",
       "    </tr>\n",
       "    <tr>\n",
       "      <th>2</th>\n",
       "      <td>2024-03-01</td>\n",
       "      <td>Hidráulica</td>\n",
       "      <td>4.7</td>\n",
       "      <td>0.208092</td>\n",
       "      <td>3</td>\n",
       "      <td>17.1</td>\n",
       "      <td>0.135668</td>\n",
       "      <td>273.1</td>\n",
       "    </tr>\n",
       "    <tr>\n",
       "      <th>3</th>\n",
       "      <td>2024-04-01</td>\n",
       "      <td>Hidráulica</td>\n",
       "      <td>4.0</td>\n",
       "      <td>0.191213</td>\n",
       "      <td>4</td>\n",
       "      <td>17.1</td>\n",
       "      <td>0.134993</td>\n",
       "      <td>235.6</td>\n",
       "    </tr>\n",
       "    <tr>\n",
       "      <th>4</th>\n",
       "      <td>2024-05-01</td>\n",
       "      <td>Hidráulica</td>\n",
       "      <td>2.9</td>\n",
       "      <td>0.136865</td>\n",
       "      <td>5</td>\n",
       "      <td>17.1</td>\n",
       "      <td>0.134669</td>\n",
       "      <td>170.8</td>\n",
       "    </tr>\n",
       "    <tr>\n",
       "      <th>...</th>\n",
       "      <td>...</td>\n",
       "      <td>...</td>\n",
       "      <td>...</td>\n",
       "      <td>...</td>\n",
       "      <td>...</td>\n",
       "      <td>...</td>\n",
       "      <td>...</td>\n",
       "      <td>...</td>\n",
       "    </tr>\n",
       "    <tr>\n",
       "      <th>185</th>\n",
       "      <td>2024-06-01</td>\n",
       "      <td>Potencia total</td>\n",
       "      <td>NaN</td>\n",
       "      <td>NaN</td>\n",
       "      <td>6</td>\n",
       "      <td>127.4</td>\n",
       "      <td>1.000000</td>\n",
       "      <td>NaN</td>\n",
       "    </tr>\n",
       "    <tr>\n",
       "      <th>186</th>\n",
       "      <td>2024-07-01</td>\n",
       "      <td>Potencia total</td>\n",
       "      <td>NaN</td>\n",
       "      <td>NaN</td>\n",
       "      <td>7</td>\n",
       "      <td>128.6</td>\n",
       "      <td>1.000000</td>\n",
       "      <td>NaN</td>\n",
       "    </tr>\n",
       "    <tr>\n",
       "      <th>187</th>\n",
       "      <td>2024-08-01</td>\n",
       "      <td>Potencia total</td>\n",
       "      <td>NaN</td>\n",
       "      <td>NaN</td>\n",
       "      <td>8</td>\n",
       "      <td>128.9</td>\n",
       "      <td>1.000000</td>\n",
       "      <td>NaN</td>\n",
       "    </tr>\n",
       "    <tr>\n",
       "      <th>188</th>\n",
       "      <td>2024-09-01</td>\n",
       "      <td>Potencia total</td>\n",
       "      <td>NaN</td>\n",
       "      <td>NaN</td>\n",
       "      <td>9</td>\n",
       "      <td>129.1</td>\n",
       "      <td>1.000000</td>\n",
       "      <td>NaN</td>\n",
       "    </tr>\n",
       "    <tr>\n",
       "      <th>189</th>\n",
       "      <td>2024-10-01</td>\n",
       "      <td>Potencia total</td>\n",
       "      <td>NaN</td>\n",
       "      <td>NaN</td>\n",
       "      <td>10</td>\n",
       "      <td>129.1</td>\n",
       "      <td>1.000000</td>\n",
       "      <td>NaN</td>\n",
       "    </tr>\n",
       "  </tbody>\n",
       "</table>\n",
       "<p>190 rows × 8 columns</p>\n",
       "</div>"
      ],
      "text/plain": [
       "           mes      tecnologia  gen_TWh  porc_gen  mes_num  pot_GW  porc_pot  \\\n",
       "0   2024-01-01      Hidráulica      3.9  0.166650        1    17.1  0.136531   \n",
       "1   2024-02-01      Hidráulica      3.0  0.134581        2    17.1  0.136138   \n",
       "2   2024-03-01      Hidráulica      4.7  0.208092        3    17.1  0.135668   \n",
       "3   2024-04-01      Hidráulica      4.0  0.191213        4    17.1  0.134993   \n",
       "4   2024-05-01      Hidráulica      2.9  0.136865        5    17.1  0.134669   \n",
       "..         ...             ...      ...       ...      ...     ...       ...   \n",
       "185 2024-06-01  Potencia total      NaN       NaN        6   127.4  1.000000   \n",
       "186 2024-07-01  Potencia total      NaN       NaN        7   128.6  1.000000   \n",
       "187 2024-08-01  Potencia total      NaN       NaN        8   128.9  1.000000   \n",
       "188 2024-09-01  Potencia total      NaN       NaN        9   129.1  1.000000   \n",
       "189 2024-10-01  Potencia total      NaN       NaN       10   129.1  1.000000   \n",
       "\n",
       "     horas_gen  \n",
       "0        228.2  \n",
       "1        174.5  \n",
       "2        273.1  \n",
       "3        235.6  \n",
       "4        170.8  \n",
       "..         ...  \n",
       "185        NaN  \n",
       "186        NaN  \n",
       "187        NaN  \n",
       "188        NaN  \n",
       "189        NaN  \n",
       "\n",
       "[190 rows x 8 columns]"
      ]
     },
     "execution_count": 8,
     "metadata": {},
     "output_type": "execute_result"
    }
   ],
   "source": [
    "df_in"
   ]
  },
  {
   "cell_type": "code",
   "execution_count": 9,
   "metadata": {},
   "outputs": [],
   "source": [
    "df_out_ratio=df_in.groupby('tecnologia').agg({\n",
    "    'gen_TWh':'sum',\n",
    "    'pot_GW':'last',\n",
    "    'horas_gen':'sum'\n",
    "})\n",
    "df_out_ratio=df_out_ratio.reset_index()\n",
    "#eliminamos las filas de gen y pot total\n",
    "df_out_ratio=df_out_ratio[~df_out_ratio['tecnologia'].isin(['Generación total','Potencia total'])]"
   ]
  },
  {
   "cell_type": "code",
   "execution_count": 10,
   "metadata": {},
   "outputs": [
    {
     "data": {
      "text/html": [
       "<div>\n",
       "<style scoped>\n",
       "    .dataframe tbody tr th:only-of-type {\n",
       "        vertical-align: middle;\n",
       "    }\n",
       "\n",
       "    .dataframe tbody tr th {\n",
       "        vertical-align: top;\n",
       "    }\n",
       "\n",
       "    .dataframe thead th {\n",
       "        text-align: right;\n",
       "    }\n",
       "</style>\n",
       "<table border=\"1\" class=\"dataframe\">\n",
       "  <thead>\n",
       "    <tr style=\"text-align: right;\">\n",
       "      <th></th>\n",
       "      <th>tecnologia</th>\n",
       "      <th>gen_TWh</th>\n",
       "      <th>pot_GW</th>\n",
       "      <th>horas_gen</th>\n",
       "    </tr>\n",
       "  </thead>\n",
       "  <tbody>\n",
       "    <tr>\n",
       "      <th>0</th>\n",
       "      <td>Carbón</td>\n",
       "      <td>2.3</td>\n",
       "      <td>2.1</td>\n",
       "      <td>1147.9</td>\n",
       "    </tr>\n",
       "    <tr>\n",
       "      <th>1</th>\n",
       "      <td>Ciclo combinado</td>\n",
       "      <td>26.1</td>\n",
       "      <td>26.3</td>\n",
       "      <td>989.0</td>\n",
       "    </tr>\n",
       "    <tr>\n",
       "      <th>2</th>\n",
       "      <td>Cogeneración</td>\n",
       "      <td>13.3</td>\n",
       "      <td>5.6</td>\n",
       "      <td>2373.3</td>\n",
       "    </tr>\n",
       "    <tr>\n",
       "      <th>3</th>\n",
       "      <td>Eólica</td>\n",
       "      <td>50.7</td>\n",
       "      <td>31.6</td>\n",
       "      <td>1622.3</td>\n",
       "    </tr>\n",
       "    <tr>\n",
       "      <th>4</th>\n",
       "      <td>Fuel + Gas</td>\n",
       "      <td>0.0</td>\n",
       "      <td>0.0</td>\n",
       "      <td>0.0</td>\n",
       "    </tr>\n",
       "    <tr>\n",
       "      <th>6</th>\n",
       "      <td>Hidroeólica</td>\n",
       "      <td>0.0</td>\n",
       "      <td>0.0</td>\n",
       "      <td>1894.4</td>\n",
       "    </tr>\n",
       "    <tr>\n",
       "      <th>7</th>\n",
       "      <td>Hidráulica</td>\n",
       "      <td>29.3</td>\n",
       "      <td>17.1</td>\n",
       "      <td>1710.2</td>\n",
       "    </tr>\n",
       "    <tr>\n",
       "      <th>8</th>\n",
       "      <td>Motores diésel</td>\n",
       "      <td>2.1</td>\n",
       "      <td>0.8</td>\n",
       "      <td>2705.1</td>\n",
       "    </tr>\n",
       "    <tr>\n",
       "      <th>9</th>\n",
       "      <td>Nuclear</td>\n",
       "      <td>44.2</td>\n",
       "      <td>7.1</td>\n",
       "      <td>6212.7</td>\n",
       "    </tr>\n",
       "    <tr>\n",
       "      <th>10</th>\n",
       "      <td>Otras renovables</td>\n",
       "      <td>3.1</td>\n",
       "      <td>1.1</td>\n",
       "      <td>2742.8</td>\n",
       "    </tr>\n",
       "    <tr>\n",
       "      <th>12</th>\n",
       "      <td>Residuos no renovables</td>\n",
       "      <td>1.1</td>\n",
       "      <td>0.4</td>\n",
       "      <td>2568.9</td>\n",
       "    </tr>\n",
       "    <tr>\n",
       "      <th>13</th>\n",
       "      <td>Residuos renovables</td>\n",
       "      <td>0.9</td>\n",
       "      <td>0.2</td>\n",
       "      <td>3817.2</td>\n",
       "    </tr>\n",
       "    <tr>\n",
       "      <th>14</th>\n",
       "      <td>Solar fotovoltaica</td>\n",
       "      <td>39.7</td>\n",
       "      <td>29.6</td>\n",
       "      <td>1402.1</td>\n",
       "    </tr>\n",
       "    <tr>\n",
       "      <th>15</th>\n",
       "      <td>Solar térmica</td>\n",
       "      <td>4.1</td>\n",
       "      <td>2.3</td>\n",
       "      <td>1701.3</td>\n",
       "    </tr>\n",
       "    <tr>\n",
       "      <th>16</th>\n",
       "      <td>Turbina de gas</td>\n",
       "      <td>0.6</td>\n",
       "      <td>1.1</td>\n",
       "      <td>491.7</td>\n",
       "    </tr>\n",
       "    <tr>\n",
       "      <th>17</th>\n",
       "      <td>Turbina de vapor</td>\n",
       "      <td>1.0</td>\n",
       "      <td>0.5</td>\n",
       "      <td>2041.4</td>\n",
       "    </tr>\n",
       "    <tr>\n",
       "      <th>18</th>\n",
       "      <td>Turbinación bombeo</td>\n",
       "      <td>4.8</td>\n",
       "      <td>3.3</td>\n",
       "      <td>1449.7</td>\n",
       "    </tr>\n",
       "  </tbody>\n",
       "</table>\n",
       "</div>"
      ],
      "text/plain": [
       "                tecnologia  gen_TWh  pot_GW  horas_gen\n",
       "0                   Carbón      2.3     2.1     1147.9\n",
       "1          Ciclo combinado     26.1    26.3      989.0\n",
       "2             Cogeneración     13.3     5.6     2373.3\n",
       "3                   Eólica     50.7    31.6     1622.3\n",
       "4               Fuel + Gas      0.0     0.0        0.0\n",
       "6              Hidroeólica      0.0     0.0     1894.4\n",
       "7               Hidráulica     29.3    17.1     1710.2\n",
       "8           Motores diésel      2.1     0.8     2705.1\n",
       "9                  Nuclear     44.2     7.1     6212.7\n",
       "10        Otras renovables      3.1     1.1     2742.8\n",
       "12  Residuos no renovables      1.1     0.4     2568.9\n",
       "13     Residuos renovables      0.9     0.2     3817.2\n",
       "14      Solar fotovoltaica     39.7    29.6     1402.1\n",
       "15           Solar térmica      4.1     2.3     1701.3\n",
       "16          Turbina de gas      0.6     1.1      491.7\n",
       "17        Turbina de vapor      1.0     0.5     2041.4\n",
       "18      Turbinación bombeo      4.8     3.3     1449.7"
      ]
     },
     "execution_count": 10,
     "metadata": {},
     "output_type": "execute_result"
    }
   ],
   "source": [
    "df_out_ratio"
   ]
  },
  {
   "cell_type": "code",
   "execution_count": 11,
   "metadata": {},
   "outputs": [
    {
     "data": {
      "text/plain": [
       "(223.3, 129.1)"
      ]
     },
     "execution_count": 11,
     "metadata": {},
     "output_type": "execute_result"
    }
   ],
   "source": [
    "gen_total=round(df_out_ratio['gen_TWh'].sum(),1)\n",
    "pot_total=round(df_out_ratio['pot_GW'].sum(),1)\n",
    "gen_total,pot_total"
   ]
  },
  {
   "cell_type": "code",
   "execution_count": 12,
   "metadata": {},
   "outputs": [
    {
     "data": {
      "text/html": [
       "<div>\n",
       "<style scoped>\n",
       "    .dataframe tbody tr th:only-of-type {\n",
       "        vertical-align: middle;\n",
       "    }\n",
       "\n",
       "    .dataframe tbody tr th {\n",
       "        vertical-align: top;\n",
       "    }\n",
       "\n",
       "    .dataframe thead th {\n",
       "        text-align: right;\n",
       "    }\n",
       "</style>\n",
       "<table border=\"1\" class=\"dataframe\">\n",
       "  <thead>\n",
       "    <tr style=\"text-align: right;\">\n",
       "      <th></th>\n",
       "      <th>tecnologia</th>\n",
       "      <th>gen_TWh</th>\n",
       "      <th>pot_GW</th>\n",
       "      <th>horas_gen</th>\n",
       "    </tr>\n",
       "  </thead>\n",
       "  <tbody>\n",
       "    <tr>\n",
       "      <th>0</th>\n",
       "      <td>Carbón</td>\n",
       "      <td>2.3</td>\n",
       "      <td>2.1</td>\n",
       "      <td>1147.9</td>\n",
       "    </tr>\n",
       "    <tr>\n",
       "      <th>1</th>\n",
       "      <td>Ciclo combinado</td>\n",
       "      <td>26.1</td>\n",
       "      <td>26.3</td>\n",
       "      <td>989.0</td>\n",
       "    </tr>\n",
       "    <tr>\n",
       "      <th>2</th>\n",
       "      <td>Cogeneración</td>\n",
       "      <td>13.3</td>\n",
       "      <td>5.6</td>\n",
       "      <td>2373.3</td>\n",
       "    </tr>\n",
       "    <tr>\n",
       "      <th>3</th>\n",
       "      <td>Eólica</td>\n",
       "      <td>50.7</td>\n",
       "      <td>31.6</td>\n",
       "      <td>1622.3</td>\n",
       "    </tr>\n",
       "    <tr>\n",
       "      <th>4</th>\n",
       "      <td>Fuel + Gas</td>\n",
       "      <td>0.0</td>\n",
       "      <td>0.0</td>\n",
       "      <td>0.0</td>\n",
       "    </tr>\n",
       "    <tr>\n",
       "      <th>6</th>\n",
       "      <td>Hidroeólica</td>\n",
       "      <td>0.0</td>\n",
       "      <td>0.0</td>\n",
       "      <td>1894.4</td>\n",
       "    </tr>\n",
       "    <tr>\n",
       "      <th>7</th>\n",
       "      <td>Hidráulica</td>\n",
       "      <td>29.3</td>\n",
       "      <td>17.1</td>\n",
       "      <td>1710.2</td>\n",
       "    </tr>\n",
       "    <tr>\n",
       "      <th>8</th>\n",
       "      <td>Motores diésel</td>\n",
       "      <td>2.1</td>\n",
       "      <td>0.8</td>\n",
       "      <td>2705.1</td>\n",
       "    </tr>\n",
       "    <tr>\n",
       "      <th>9</th>\n",
       "      <td>Nuclear</td>\n",
       "      <td>44.2</td>\n",
       "      <td>7.1</td>\n",
       "      <td>6212.7</td>\n",
       "    </tr>\n",
       "    <tr>\n",
       "      <th>10</th>\n",
       "      <td>Otras renovables</td>\n",
       "      <td>3.1</td>\n",
       "      <td>1.1</td>\n",
       "      <td>2742.8</td>\n",
       "    </tr>\n",
       "    <tr>\n",
       "      <th>12</th>\n",
       "      <td>Residuos no renovables</td>\n",
       "      <td>1.1</td>\n",
       "      <td>0.4</td>\n",
       "      <td>2568.9</td>\n",
       "    </tr>\n",
       "    <tr>\n",
       "      <th>13</th>\n",
       "      <td>Residuos renovables</td>\n",
       "      <td>0.9</td>\n",
       "      <td>0.2</td>\n",
       "      <td>3817.2</td>\n",
       "    </tr>\n",
       "    <tr>\n",
       "      <th>14</th>\n",
       "      <td>Solar fotovoltaica</td>\n",
       "      <td>39.7</td>\n",
       "      <td>29.6</td>\n",
       "      <td>1402.1</td>\n",
       "    </tr>\n",
       "    <tr>\n",
       "      <th>15</th>\n",
       "      <td>Solar térmica</td>\n",
       "      <td>4.1</td>\n",
       "      <td>2.3</td>\n",
       "      <td>1701.3</td>\n",
       "    </tr>\n",
       "    <tr>\n",
       "      <th>16</th>\n",
       "      <td>Turbina de gas</td>\n",
       "      <td>0.6</td>\n",
       "      <td>1.1</td>\n",
       "      <td>491.7</td>\n",
       "    </tr>\n",
       "    <tr>\n",
       "      <th>17</th>\n",
       "      <td>Turbina de vapor</td>\n",
       "      <td>1.0</td>\n",
       "      <td>0.5</td>\n",
       "      <td>2041.4</td>\n",
       "    </tr>\n",
       "    <tr>\n",
       "      <th>18</th>\n",
       "      <td>Turbinación bombeo</td>\n",
       "      <td>4.8</td>\n",
       "      <td>3.3</td>\n",
       "      <td>1449.7</td>\n",
       "    </tr>\n",
       "  </tbody>\n",
       "</table>\n",
       "</div>"
      ],
      "text/plain": [
       "                tecnologia  gen_TWh  pot_GW  horas_gen\n",
       "0                   Carbón      2.3     2.1     1147.9\n",
       "1          Ciclo combinado     26.1    26.3      989.0\n",
       "2             Cogeneración     13.3     5.6     2373.3\n",
       "3                   Eólica     50.7    31.6     1622.3\n",
       "4               Fuel + Gas      0.0     0.0        0.0\n",
       "6              Hidroeólica      0.0     0.0     1894.4\n",
       "7               Hidráulica     29.3    17.1     1710.2\n",
       "8           Motores diésel      2.1     0.8     2705.1\n",
       "9                  Nuclear     44.2     7.1     6212.7\n",
       "10        Otras renovables      3.1     1.1     2742.8\n",
       "12  Residuos no renovables      1.1     0.4     2568.9\n",
       "13     Residuos renovables      0.9     0.2     3817.2\n",
       "14      Solar fotovoltaica     39.7    29.6     1402.1\n",
       "15           Solar térmica      4.1     2.3     1701.3\n",
       "16          Turbina de gas      0.6     1.1      491.7\n",
       "17        Turbina de vapor      1.0     0.5     2041.4\n",
       "18      Turbinación bombeo      4.8     3.3     1449.7"
      ]
     },
     "execution_count": 12,
     "metadata": {},
     "output_type": "execute_result"
    }
   ],
   "source": [
    "\n",
    "df_out_ratio"
   ]
  },
  {
   "cell_type": "code",
   "execution_count": 13,
   "metadata": {},
   "outputs": [],
   "source": [
    "df_out_ratio['horas_gen']=df_out_ratio['horas_gen'].astype(int)\n",
    "df_out_ratio['FC']=round(df_out_ratio['horas_gen']/horas,3)\n",
    "df_out_ratio['%_mix']=round(df_out_ratio['gen_TWh']/gen_total,3)\n"
   ]
  },
  {
   "cell_type": "code",
   "execution_count": 14,
   "metadata": {},
   "outputs": [
    {
     "data": {
      "text/html": [
       "<div>\n",
       "<style scoped>\n",
       "    .dataframe tbody tr th:only-of-type {\n",
       "        vertical-align: middle;\n",
       "    }\n",
       "\n",
       "    .dataframe tbody tr th {\n",
       "        vertical-align: top;\n",
       "    }\n",
       "\n",
       "    .dataframe thead th {\n",
       "        text-align: right;\n",
       "    }\n",
       "</style>\n",
       "<table border=\"1\" class=\"dataframe\">\n",
       "  <thead>\n",
       "    <tr style=\"text-align: right;\">\n",
       "      <th></th>\n",
       "      <th>tecnologia</th>\n",
       "      <th>gen_TWh</th>\n",
       "      <th>pot_GW</th>\n",
       "      <th>horas_gen</th>\n",
       "      <th>FC</th>\n",
       "      <th>%_mix</th>\n",
       "    </tr>\n",
       "  </thead>\n",
       "  <tbody>\n",
       "    <tr>\n",
       "      <th>0</th>\n",
       "      <td>Carbón</td>\n",
       "      <td>2.3</td>\n",
       "      <td>2.1</td>\n",
       "      <td>1147</td>\n",
       "      <td>0.157</td>\n",
       "      <td>0.010</td>\n",
       "    </tr>\n",
       "    <tr>\n",
       "      <th>1</th>\n",
       "      <td>Ciclo combinado</td>\n",
       "      <td>26.1</td>\n",
       "      <td>26.3</td>\n",
       "      <td>989</td>\n",
       "      <td>0.135</td>\n",
       "      <td>0.117</td>\n",
       "    </tr>\n",
       "    <tr>\n",
       "      <th>2</th>\n",
       "      <td>Cogeneración</td>\n",
       "      <td>13.3</td>\n",
       "      <td>5.6</td>\n",
       "      <td>2373</td>\n",
       "      <td>0.324</td>\n",
       "      <td>0.060</td>\n",
       "    </tr>\n",
       "    <tr>\n",
       "      <th>3</th>\n",
       "      <td>Eólica</td>\n",
       "      <td>50.7</td>\n",
       "      <td>31.6</td>\n",
       "      <td>1622</td>\n",
       "      <td>0.222</td>\n",
       "      <td>0.227</td>\n",
       "    </tr>\n",
       "    <tr>\n",
       "      <th>4</th>\n",
       "      <td>Fuel + Gas</td>\n",
       "      <td>0.0</td>\n",
       "      <td>0.0</td>\n",
       "      <td>0</td>\n",
       "      <td>0.000</td>\n",
       "      <td>0.000</td>\n",
       "    </tr>\n",
       "    <tr>\n",
       "      <th>6</th>\n",
       "      <td>Hidroeólica</td>\n",
       "      <td>0.0</td>\n",
       "      <td>0.0</td>\n",
       "      <td>1894</td>\n",
       "      <td>0.259</td>\n",
       "      <td>0.000</td>\n",
       "    </tr>\n",
       "    <tr>\n",
       "      <th>7</th>\n",
       "      <td>Hidráulica</td>\n",
       "      <td>29.3</td>\n",
       "      <td>17.1</td>\n",
       "      <td>1710</td>\n",
       "      <td>0.234</td>\n",
       "      <td>0.131</td>\n",
       "    </tr>\n",
       "    <tr>\n",
       "      <th>8</th>\n",
       "      <td>Motores diésel</td>\n",
       "      <td>2.1</td>\n",
       "      <td>0.8</td>\n",
       "      <td>2705</td>\n",
       "      <td>0.370</td>\n",
       "      <td>0.009</td>\n",
       "    </tr>\n",
       "    <tr>\n",
       "      <th>9</th>\n",
       "      <td>Nuclear</td>\n",
       "      <td>44.2</td>\n",
       "      <td>7.1</td>\n",
       "      <td>6212</td>\n",
       "      <td>0.849</td>\n",
       "      <td>0.198</td>\n",
       "    </tr>\n",
       "    <tr>\n",
       "      <th>10</th>\n",
       "      <td>Otras renovables</td>\n",
       "      <td>3.1</td>\n",
       "      <td>1.1</td>\n",
       "      <td>2742</td>\n",
       "      <td>0.375</td>\n",
       "      <td>0.014</td>\n",
       "    </tr>\n",
       "    <tr>\n",
       "      <th>12</th>\n",
       "      <td>Residuos no renovables</td>\n",
       "      <td>1.1</td>\n",
       "      <td>0.4</td>\n",
       "      <td>2568</td>\n",
       "      <td>0.351</td>\n",
       "      <td>0.005</td>\n",
       "    </tr>\n",
       "    <tr>\n",
       "      <th>13</th>\n",
       "      <td>Residuos renovables</td>\n",
       "      <td>0.9</td>\n",
       "      <td>0.2</td>\n",
       "      <td>3817</td>\n",
       "      <td>0.521</td>\n",
       "      <td>0.004</td>\n",
       "    </tr>\n",
       "    <tr>\n",
       "      <th>14</th>\n",
       "      <td>Solar fotovoltaica</td>\n",
       "      <td>39.7</td>\n",
       "      <td>29.6</td>\n",
       "      <td>1402</td>\n",
       "      <td>0.192</td>\n",
       "      <td>0.178</td>\n",
       "    </tr>\n",
       "    <tr>\n",
       "      <th>15</th>\n",
       "      <td>Solar térmica</td>\n",
       "      <td>4.1</td>\n",
       "      <td>2.3</td>\n",
       "      <td>1701</td>\n",
       "      <td>0.232</td>\n",
       "      <td>0.018</td>\n",
       "    </tr>\n",
       "    <tr>\n",
       "      <th>16</th>\n",
       "      <td>Turbina de gas</td>\n",
       "      <td>0.6</td>\n",
       "      <td>1.1</td>\n",
       "      <td>491</td>\n",
       "      <td>0.067</td>\n",
       "      <td>0.003</td>\n",
       "    </tr>\n",
       "    <tr>\n",
       "      <th>17</th>\n",
       "      <td>Turbina de vapor</td>\n",
       "      <td>1.0</td>\n",
       "      <td>0.5</td>\n",
       "      <td>2041</td>\n",
       "      <td>0.279</td>\n",
       "      <td>0.004</td>\n",
       "    </tr>\n",
       "    <tr>\n",
       "      <th>18</th>\n",
       "      <td>Turbinación bombeo</td>\n",
       "      <td>4.8</td>\n",
       "      <td>3.3</td>\n",
       "      <td>1449</td>\n",
       "      <td>0.198</td>\n",
       "      <td>0.021</td>\n",
       "    </tr>\n",
       "  </tbody>\n",
       "</table>\n",
       "</div>"
      ],
      "text/plain": [
       "                tecnologia  gen_TWh  pot_GW  horas_gen     FC  %_mix\n",
       "0                   Carbón      2.3     2.1       1147  0.157  0.010\n",
       "1          Ciclo combinado     26.1    26.3        989  0.135  0.117\n",
       "2             Cogeneración     13.3     5.6       2373  0.324  0.060\n",
       "3                   Eólica     50.7    31.6       1622  0.222  0.227\n",
       "4               Fuel + Gas      0.0     0.0          0  0.000  0.000\n",
       "6              Hidroeólica      0.0     0.0       1894  0.259  0.000\n",
       "7               Hidráulica     29.3    17.1       1710  0.234  0.131\n",
       "8           Motores diésel      2.1     0.8       2705  0.370  0.009\n",
       "9                  Nuclear     44.2     7.1       6212  0.849  0.198\n",
       "10        Otras renovables      3.1     1.1       2742  0.375  0.014\n",
       "12  Residuos no renovables      1.1     0.4       2568  0.351  0.005\n",
       "13     Residuos renovables      0.9     0.2       3817  0.521  0.004\n",
       "14      Solar fotovoltaica     39.7    29.6       1402  0.192  0.178\n",
       "15           Solar térmica      4.1     2.3       1701  0.232  0.018\n",
       "16          Turbina de gas      0.6     1.1        491  0.067  0.003\n",
       "17        Turbina de vapor      1.0     0.5       2041  0.279  0.004\n",
       "18      Turbinación bombeo      4.8     3.3       1449  0.198  0.021"
      ]
     },
     "execution_count": 14,
     "metadata": {},
     "output_type": "execute_result"
    }
   ],
   "source": [
    "df_out_ratio"
   ]
  },
  {
   "cell_type": "code",
   "execution_count": 15,
   "metadata": {},
   "outputs": [],
   "source": [
    "#tecnologias seleccionadas para graficar\n",
    "tec_select=['Ciclo combinado', 'Hidráulica', 'Nuclear', 'Solar fotovoltaica', 'Turbinación bombeo', 'Eólica', 'Cogeneración']\n",
    "df_out_ratio_select=df_out_ratio[df_out_ratio['tecnologia'].isin(tec_select)].copy()\n",
    "#colores asociados (lo pongo aquí para tener la relacion directa)\n",
    "colores=[\"#555867\",\"#4be4ff\",\"#ff2b2b\",\"#ff8700\",\"#004280\",\"#09ab3b\",\"#6d3fc0\"]\n",
    "\n",
    "\n"
   ]
  },
  {
   "cell_type": "code",
   "execution_count": 16,
   "metadata": {},
   "outputs": [],
   "source": [
    "#calculamos las horas teoricas maximas\n",
    "df_out_ratio_select['horas_max']=horas_proporcional*df_out_ratio_select['tecnologia'].map(horas_tec_teoricas)\n",
    "df_out_ratio_select['horas_max']=df_out_ratio_select['horas_max'].astype(int)\n",
    "#calculamos el FC relativo según horas máximas\n",
    "df_out_ratio_select['FC_rel']=round(df_out_ratio_select['horas_gen']/df_out_ratio_select['horas_max'],3)\n",
    "\n",
    "df_out_ratio_select['%_mix']=round(df_out_ratio_select['gen_TWh']/gen_total,3)"
   ]
  },
  {
   "cell_type": "code",
   "execution_count": 17,
   "metadata": {},
   "outputs": [],
   "source": [
    "#ordenamos la tabla por FC\n",
    "df_out_ratio_select_fc=df_out_ratio_select.sort_values(['FC'],ascending=False)\n",
    "df_out_ratio_select_fcrel=df_out_ratio_select.sort_values(['FC_rel'],ascending=False)\n",
    "df_out_ratio_select_mix=df_out_ratio_select.sort_values(['%_mix'],ascending=False)"
   ]
  },
  {
   "cell_type": "code",
   "execution_count": 18,
   "metadata": {},
   "outputs": [
    {
     "data": {
      "text/html": [
       "<div>\n",
       "<style scoped>\n",
       "    .dataframe tbody tr th:only-of-type {\n",
       "        vertical-align: middle;\n",
       "    }\n",
       "\n",
       "    .dataframe tbody tr th {\n",
       "        vertical-align: top;\n",
       "    }\n",
       "\n",
       "    .dataframe thead th {\n",
       "        text-align: right;\n",
       "    }\n",
       "</style>\n",
       "<table border=\"1\" class=\"dataframe\">\n",
       "  <thead>\n",
       "    <tr style=\"text-align: right;\">\n",
       "      <th></th>\n",
       "      <th>tecnologia</th>\n",
       "      <th>gen_TWh</th>\n",
       "      <th>pot_GW</th>\n",
       "      <th>horas_gen</th>\n",
       "      <th>FC</th>\n",
       "      <th>%_mix</th>\n",
       "      <th>horas_max</th>\n",
       "      <th>FC_rel</th>\n",
       "    </tr>\n",
       "  </thead>\n",
       "  <tbody>\n",
       "    <tr>\n",
       "      <th>9</th>\n",
       "      <td>Nuclear</td>\n",
       "      <td>44.2</td>\n",
       "      <td>7.1</td>\n",
       "      <td>6212</td>\n",
       "      <td>0.849</td>\n",
       "      <td>0.198</td>\n",
       "      <td>7320</td>\n",
       "      <td>0.849</td>\n",
       "    </tr>\n",
       "    <tr>\n",
       "      <th>2</th>\n",
       "      <td>Cogeneración</td>\n",
       "      <td>13.3</td>\n",
       "      <td>5.6</td>\n",
       "      <td>2373</td>\n",
       "      <td>0.324</td>\n",
       "      <td>0.060</td>\n",
       "      <td>5849</td>\n",
       "      <td>0.406</td>\n",
       "    </tr>\n",
       "    <tr>\n",
       "      <th>7</th>\n",
       "      <td>Hidráulica</td>\n",
       "      <td>29.3</td>\n",
       "      <td>17.1</td>\n",
       "      <td>1710</td>\n",
       "      <td>0.234</td>\n",
       "      <td>0.131</td>\n",
       "      <td>3342</td>\n",
       "      <td>0.512</td>\n",
       "    </tr>\n",
       "    <tr>\n",
       "      <th>3</th>\n",
       "      <td>Eólica</td>\n",
       "      <td>50.7</td>\n",
       "      <td>31.6</td>\n",
       "      <td>1622</td>\n",
       "      <td>0.222</td>\n",
       "      <td>0.227</td>\n",
       "      <td>1838</td>\n",
       "      <td>0.882</td>\n",
       "    </tr>\n",
       "    <tr>\n",
       "      <th>18</th>\n",
       "      <td>Turbinación bombeo</td>\n",
       "      <td>4.8</td>\n",
       "      <td>3.3</td>\n",
       "      <td>1449</td>\n",
       "      <td>0.198</td>\n",
       "      <td>0.021</td>\n",
       "      <td>1671</td>\n",
       "      <td>0.867</td>\n",
       "    </tr>\n",
       "    <tr>\n",
       "      <th>14</th>\n",
       "      <td>Solar fotovoltaica</td>\n",
       "      <td>39.7</td>\n",
       "      <td>29.6</td>\n",
       "      <td>1402</td>\n",
       "      <td>0.192</td>\n",
       "      <td>0.178</td>\n",
       "      <td>1671</td>\n",
       "      <td>0.839</td>\n",
       "    </tr>\n",
       "    <tr>\n",
       "      <th>1</th>\n",
       "      <td>Ciclo combinado</td>\n",
       "      <td>26.1</td>\n",
       "      <td>26.3</td>\n",
       "      <td>989</td>\n",
       "      <td>0.135</td>\n",
       "      <td>0.117</td>\n",
       "      <td>5013</td>\n",
       "      <td>0.197</td>\n",
       "    </tr>\n",
       "  </tbody>\n",
       "</table>\n",
       "</div>"
      ],
      "text/plain": [
       "            tecnologia  gen_TWh  pot_GW  horas_gen     FC  %_mix  horas_max  \\\n",
       "9              Nuclear     44.2     7.1       6212  0.849  0.198       7320   \n",
       "2         Cogeneración     13.3     5.6       2373  0.324  0.060       5849   \n",
       "7           Hidráulica     29.3    17.1       1710  0.234  0.131       3342   \n",
       "3               Eólica     50.7    31.6       1622  0.222  0.227       1838   \n",
       "18  Turbinación bombeo      4.8     3.3       1449  0.198  0.021       1671   \n",
       "14  Solar fotovoltaica     39.7    29.6       1402  0.192  0.178       1671   \n",
       "1      Ciclo combinado     26.1    26.3        989  0.135  0.117       5013   \n",
       "\n",
       "    FC_rel  \n",
       "9    0.849  \n",
       "2    0.406  \n",
       "7    0.512  \n",
       "3    0.882  \n",
       "18   0.867  \n",
       "14   0.839  \n",
       "1    0.197  "
      ]
     },
     "execution_count": 18,
     "metadata": {},
     "output_type": "execute_result"
    }
   ],
   "source": [
    "df_out_ratio_select_fc"
   ]
  },
  {
   "cell_type": "code",
   "execution_count": 19,
   "metadata": {},
   "outputs": [
    {
     "data": {
      "text/html": [
       "<div>\n",
       "<style scoped>\n",
       "    .dataframe tbody tr th:only-of-type {\n",
       "        vertical-align: middle;\n",
       "    }\n",
       "\n",
       "    .dataframe tbody tr th {\n",
       "        vertical-align: top;\n",
       "    }\n",
       "\n",
       "    .dataframe thead th {\n",
       "        text-align: right;\n",
       "    }\n",
       "</style>\n",
       "<table border=\"1\" class=\"dataframe\">\n",
       "  <thead>\n",
       "    <tr style=\"text-align: right;\">\n",
       "      <th></th>\n",
       "      <th>tecnologia</th>\n",
       "      <th>gen_TWh</th>\n",
       "      <th>pot_GW</th>\n",
       "      <th>horas_gen</th>\n",
       "      <th>FC</th>\n",
       "      <th>%_mix</th>\n",
       "      <th>horas_max</th>\n",
       "      <th>FC_rel</th>\n",
       "    </tr>\n",
       "  </thead>\n",
       "  <tbody>\n",
       "    <tr>\n",
       "      <th>3</th>\n",
       "      <td>Eólica</td>\n",
       "      <td>50.7</td>\n",
       "      <td>31.6</td>\n",
       "      <td>1622</td>\n",
       "      <td>0.222</td>\n",
       "      <td>0.227</td>\n",
       "      <td>1838</td>\n",
       "      <td>0.882</td>\n",
       "    </tr>\n",
       "    <tr>\n",
       "      <th>18</th>\n",
       "      <td>Turbinación bombeo</td>\n",
       "      <td>4.8</td>\n",
       "      <td>3.3</td>\n",
       "      <td>1449</td>\n",
       "      <td>0.198</td>\n",
       "      <td>0.021</td>\n",
       "      <td>1671</td>\n",
       "      <td>0.867</td>\n",
       "    </tr>\n",
       "    <tr>\n",
       "      <th>9</th>\n",
       "      <td>Nuclear</td>\n",
       "      <td>44.2</td>\n",
       "      <td>7.1</td>\n",
       "      <td>6212</td>\n",
       "      <td>0.849</td>\n",
       "      <td>0.198</td>\n",
       "      <td>7320</td>\n",
       "      <td>0.849</td>\n",
       "    </tr>\n",
       "    <tr>\n",
       "      <th>14</th>\n",
       "      <td>Solar fotovoltaica</td>\n",
       "      <td>39.7</td>\n",
       "      <td>29.6</td>\n",
       "      <td>1402</td>\n",
       "      <td>0.192</td>\n",
       "      <td>0.178</td>\n",
       "      <td>1671</td>\n",
       "      <td>0.839</td>\n",
       "    </tr>\n",
       "    <tr>\n",
       "      <th>7</th>\n",
       "      <td>Hidráulica</td>\n",
       "      <td>29.3</td>\n",
       "      <td>17.1</td>\n",
       "      <td>1710</td>\n",
       "      <td>0.234</td>\n",
       "      <td>0.131</td>\n",
       "      <td>3342</td>\n",
       "      <td>0.512</td>\n",
       "    </tr>\n",
       "    <tr>\n",
       "      <th>2</th>\n",
       "      <td>Cogeneración</td>\n",
       "      <td>13.3</td>\n",
       "      <td>5.6</td>\n",
       "      <td>2373</td>\n",
       "      <td>0.324</td>\n",
       "      <td>0.060</td>\n",
       "      <td>5849</td>\n",
       "      <td>0.406</td>\n",
       "    </tr>\n",
       "    <tr>\n",
       "      <th>1</th>\n",
       "      <td>Ciclo combinado</td>\n",
       "      <td>26.1</td>\n",
       "      <td>26.3</td>\n",
       "      <td>989</td>\n",
       "      <td>0.135</td>\n",
       "      <td>0.117</td>\n",
       "      <td>5013</td>\n",
       "      <td>0.197</td>\n",
       "    </tr>\n",
       "  </tbody>\n",
       "</table>\n",
       "</div>"
      ],
      "text/plain": [
       "            tecnologia  gen_TWh  pot_GW  horas_gen     FC  %_mix  horas_max  \\\n",
       "3               Eólica     50.7    31.6       1622  0.222  0.227       1838   \n",
       "18  Turbinación bombeo      4.8     3.3       1449  0.198  0.021       1671   \n",
       "9              Nuclear     44.2     7.1       6212  0.849  0.198       7320   \n",
       "14  Solar fotovoltaica     39.7    29.6       1402  0.192  0.178       1671   \n",
       "7           Hidráulica     29.3    17.1       1710  0.234  0.131       3342   \n",
       "2         Cogeneración     13.3     5.6       2373  0.324  0.060       5849   \n",
       "1      Ciclo combinado     26.1    26.3        989  0.135  0.117       5013   \n",
       "\n",
       "    FC_rel  \n",
       "3    0.882  \n",
       "18   0.867  \n",
       "9    0.849  \n",
       "14   0.839  \n",
       "7    0.512  \n",
       "2    0.406  \n",
       "1    0.197  "
      ]
     },
     "execution_count": 19,
     "metadata": {},
     "output_type": "execute_result"
    }
   ],
   "source": [
    "df_out_ratio_select_fcrel"
   ]
  },
  {
   "cell_type": "code",
   "execution_count": 20,
   "metadata": {},
   "outputs": [
    {
     "data": {
      "text/html": [
       "<div>\n",
       "<style scoped>\n",
       "    .dataframe tbody tr th:only-of-type {\n",
       "        vertical-align: middle;\n",
       "    }\n",
       "\n",
       "    .dataframe tbody tr th {\n",
       "        vertical-align: top;\n",
       "    }\n",
       "\n",
       "    .dataframe thead th {\n",
       "        text-align: right;\n",
       "    }\n",
       "</style>\n",
       "<table border=\"1\" class=\"dataframe\">\n",
       "  <thead>\n",
       "    <tr style=\"text-align: right;\">\n",
       "      <th></th>\n",
       "      <th>tecnologia</th>\n",
       "      <th>gen_TWh</th>\n",
       "      <th>pot_GW</th>\n",
       "      <th>horas_gen</th>\n",
       "      <th>FC</th>\n",
       "      <th>%_mix</th>\n",
       "      <th>horas_max</th>\n",
       "      <th>FC_rel</th>\n",
       "    </tr>\n",
       "  </thead>\n",
       "  <tbody>\n",
       "    <tr>\n",
       "      <th>3</th>\n",
       "      <td>Eólica</td>\n",
       "      <td>50.7</td>\n",
       "      <td>31.6</td>\n",
       "      <td>1622</td>\n",
       "      <td>0.222</td>\n",
       "      <td>0.227</td>\n",
       "      <td>1838</td>\n",
       "      <td>0.882</td>\n",
       "    </tr>\n",
       "    <tr>\n",
       "      <th>9</th>\n",
       "      <td>Nuclear</td>\n",
       "      <td>44.2</td>\n",
       "      <td>7.1</td>\n",
       "      <td>6212</td>\n",
       "      <td>0.849</td>\n",
       "      <td>0.198</td>\n",
       "      <td>7320</td>\n",
       "      <td>0.849</td>\n",
       "    </tr>\n",
       "    <tr>\n",
       "      <th>14</th>\n",
       "      <td>Solar fotovoltaica</td>\n",
       "      <td>39.7</td>\n",
       "      <td>29.6</td>\n",
       "      <td>1402</td>\n",
       "      <td>0.192</td>\n",
       "      <td>0.178</td>\n",
       "      <td>1671</td>\n",
       "      <td>0.839</td>\n",
       "    </tr>\n",
       "    <tr>\n",
       "      <th>7</th>\n",
       "      <td>Hidráulica</td>\n",
       "      <td>29.3</td>\n",
       "      <td>17.1</td>\n",
       "      <td>1710</td>\n",
       "      <td>0.234</td>\n",
       "      <td>0.131</td>\n",
       "      <td>3342</td>\n",
       "      <td>0.512</td>\n",
       "    </tr>\n",
       "    <tr>\n",
       "      <th>1</th>\n",
       "      <td>Ciclo combinado</td>\n",
       "      <td>26.1</td>\n",
       "      <td>26.3</td>\n",
       "      <td>989</td>\n",
       "      <td>0.135</td>\n",
       "      <td>0.117</td>\n",
       "      <td>5013</td>\n",
       "      <td>0.197</td>\n",
       "    </tr>\n",
       "    <tr>\n",
       "      <th>2</th>\n",
       "      <td>Cogeneración</td>\n",
       "      <td>13.3</td>\n",
       "      <td>5.6</td>\n",
       "      <td>2373</td>\n",
       "      <td>0.324</td>\n",
       "      <td>0.060</td>\n",
       "      <td>5849</td>\n",
       "      <td>0.406</td>\n",
       "    </tr>\n",
       "    <tr>\n",
       "      <th>18</th>\n",
       "      <td>Turbinación bombeo</td>\n",
       "      <td>4.8</td>\n",
       "      <td>3.3</td>\n",
       "      <td>1449</td>\n",
       "      <td>0.198</td>\n",
       "      <td>0.021</td>\n",
       "      <td>1671</td>\n",
       "      <td>0.867</td>\n",
       "    </tr>\n",
       "  </tbody>\n",
       "</table>\n",
       "</div>"
      ],
      "text/plain": [
       "            tecnologia  gen_TWh  pot_GW  horas_gen     FC  %_mix  horas_max  \\\n",
       "3               Eólica     50.7    31.6       1622  0.222  0.227       1838   \n",
       "9              Nuclear     44.2     7.1       6212  0.849  0.198       7320   \n",
       "14  Solar fotovoltaica     39.7    29.6       1402  0.192  0.178       1671   \n",
       "7           Hidráulica     29.3    17.1       1710  0.234  0.131       3342   \n",
       "1      Ciclo combinado     26.1    26.3        989  0.135  0.117       5013   \n",
       "2         Cogeneración     13.3     5.6       2373  0.324  0.060       5849   \n",
       "18  Turbinación bombeo      4.8     3.3       1449  0.198  0.021       1671   \n",
       "\n",
       "    FC_rel  \n",
       "3    0.882  \n",
       "9    0.849  \n",
       "14   0.839  \n",
       "7    0.512  \n",
       "1    0.197  \n",
       "2    0.406  \n",
       "18   0.867  "
      ]
     },
     "execution_count": 20,
     "metadata": {},
     "output_type": "execute_result"
    }
   ],
   "source": [
    "df_out_ratio_select_mix"
   ]
  },
  {
   "cell_type": "code",
   "execution_count": 31,
   "metadata": {},
   "outputs": [
    {
     "name": "stdout",
     "output_type": "stream",
     "text": [
      "129.1 8.5\n"
     ]
    }
   ],
   "source": [
    "mix_tec_select=df_out_ratio_select_mix['%_mix'].sum()\n",
    "mix_resto=round(1-mix_tec_select,3)\n",
    "gen_resto=round(gen_total-df_out_ratio_select_mix['gen_TWh'].sum(),1)\n",
    "pot_resto=pot_total-df_out_ratio_select_mix['pot_GW'].sum()\n",
    "mix_tec_select,mix_resto,gen_resto\n",
    "nueva_fila = {\n",
    "    'tecnologia': 'Resto',\n",
    "    'gen_TWh': gen_resto,\n",
    "    'pot_GW': pot_resto,  # Opcional: si no aplica, puedes dejar como None\n",
    "    'horas_gen': None,\n",
    "    'FC': None,\n",
    "    '%_mix': mix_resto,\n",
    "    'horas_max': None,\n",
    "    'FC_rel': None\n",
    "}\n",
    "print(pot_total,pot_resto)\n",
    "df_out_ratio_select_mix=pd.concat([df_out_ratio_select_mix,pd.DataFrame([nueva_fila])],ignore_index=True)\n",
    "df_out_ratio_select_mix=df_out_ratio_select_mix.sort_values(['%_mix'],ascending=False)"
   ]
  },
  {
   "cell_type": "code",
   "execution_count": 32,
   "metadata": {},
   "outputs": [
    {
     "data": {
      "text/html": [
       "<div>\n",
       "<style scoped>\n",
       "    .dataframe tbody tr th:only-of-type {\n",
       "        vertical-align: middle;\n",
       "    }\n",
       "\n",
       "    .dataframe tbody tr th {\n",
       "        vertical-align: top;\n",
       "    }\n",
       "\n",
       "    .dataframe thead th {\n",
       "        text-align: right;\n",
       "    }\n",
       "</style>\n",
       "<table border=\"1\" class=\"dataframe\">\n",
       "  <thead>\n",
       "    <tr style=\"text-align: right;\">\n",
       "      <th></th>\n",
       "      <th>tecnologia</th>\n",
       "      <th>gen_TWh</th>\n",
       "      <th>pot_GW</th>\n",
       "      <th>horas_gen</th>\n",
       "      <th>FC</th>\n",
       "      <th>%_mix</th>\n",
       "      <th>horas_max</th>\n",
       "      <th>FC_rel</th>\n",
       "    </tr>\n",
       "  </thead>\n",
       "  <tbody>\n",
       "    <tr>\n",
       "      <th>0</th>\n",
       "      <td>Eólica</td>\n",
       "      <td>50.7</td>\n",
       "      <td>31.6</td>\n",
       "      <td>1622</td>\n",
       "      <td>0.222</td>\n",
       "      <td>0.227</td>\n",
       "      <td>1838</td>\n",
       "      <td>0.882</td>\n",
       "    </tr>\n",
       "    <tr>\n",
       "      <th>1</th>\n",
       "      <td>Nuclear</td>\n",
       "      <td>44.2</td>\n",
       "      <td>7.1</td>\n",
       "      <td>6212</td>\n",
       "      <td>0.849</td>\n",
       "      <td>0.198</td>\n",
       "      <td>7320</td>\n",
       "      <td>0.849</td>\n",
       "    </tr>\n",
       "    <tr>\n",
       "      <th>2</th>\n",
       "      <td>Solar fotovoltaica</td>\n",
       "      <td>39.7</td>\n",
       "      <td>29.6</td>\n",
       "      <td>1402</td>\n",
       "      <td>0.192</td>\n",
       "      <td>0.178</td>\n",
       "      <td>1671</td>\n",
       "      <td>0.839</td>\n",
       "    </tr>\n",
       "    <tr>\n",
       "      <th>3</th>\n",
       "      <td>Hidráulica</td>\n",
       "      <td>29.3</td>\n",
       "      <td>17.1</td>\n",
       "      <td>1710</td>\n",
       "      <td>0.234</td>\n",
       "      <td>0.131</td>\n",
       "      <td>3342</td>\n",
       "      <td>0.512</td>\n",
       "    </tr>\n",
       "    <tr>\n",
       "      <th>4</th>\n",
       "      <td>Ciclo combinado</td>\n",
       "      <td>26.1</td>\n",
       "      <td>26.3</td>\n",
       "      <td>989</td>\n",
       "      <td>0.135</td>\n",
       "      <td>0.117</td>\n",
       "      <td>5013</td>\n",
       "      <td>0.197</td>\n",
       "    </tr>\n",
       "    <tr>\n",
       "      <th>7</th>\n",
       "      <td>Resto</td>\n",
       "      <td>15.2</td>\n",
       "      <td>8.5</td>\n",
       "      <td>None</td>\n",
       "      <td>None</td>\n",
       "      <td>0.068</td>\n",
       "      <td>None</td>\n",
       "      <td>None</td>\n",
       "    </tr>\n",
       "    <tr>\n",
       "      <th>5</th>\n",
       "      <td>Cogeneración</td>\n",
       "      <td>13.3</td>\n",
       "      <td>5.6</td>\n",
       "      <td>2373</td>\n",
       "      <td>0.324</td>\n",
       "      <td>0.060</td>\n",
       "      <td>5849</td>\n",
       "      <td>0.406</td>\n",
       "    </tr>\n",
       "    <tr>\n",
       "      <th>6</th>\n",
       "      <td>Turbinación bombeo</td>\n",
       "      <td>4.8</td>\n",
       "      <td>3.3</td>\n",
       "      <td>1449</td>\n",
       "      <td>0.198</td>\n",
       "      <td>0.021</td>\n",
       "      <td>1671</td>\n",
       "      <td>0.867</td>\n",
       "    </tr>\n",
       "  </tbody>\n",
       "</table>\n",
       "</div>"
      ],
      "text/plain": [
       "           tecnologia  gen_TWh  pot_GW horas_gen     FC  %_mix horas_max  \\\n",
       "0              Eólica     50.7    31.6      1622  0.222  0.227      1838   \n",
       "1             Nuclear     44.2     7.1      6212  0.849  0.198      7320   \n",
       "2  Solar fotovoltaica     39.7    29.6      1402  0.192  0.178      1671   \n",
       "3          Hidráulica     29.3    17.1      1710  0.234  0.131      3342   \n",
       "4     Ciclo combinado     26.1    26.3       989  0.135  0.117      5013   \n",
       "7               Resto     15.2     8.5      None   None  0.068      None   \n",
       "5        Cogeneración     13.3     5.6      2373  0.324  0.060      5849   \n",
       "6  Turbinación bombeo      4.8     3.3      1449  0.198  0.021      1671   \n",
       "\n",
       "  FC_rel  \n",
       "0  0.882  \n",
       "1  0.849  \n",
       "2  0.839  \n",
       "3  0.512  \n",
       "4  0.197  \n",
       "7   None  \n",
       "5  0.406  \n",
       "6  0.867  "
      ]
     },
     "execution_count": 32,
     "metadata": {},
     "output_type": "execute_result"
    }
   ],
   "source": [
    "df_out_ratio_select_mix"
   ]
  },
  {
   "cell_type": "code",
   "execution_count": 33,
   "metadata": {},
   "outputs": [],
   "source": [
    "#creamos un diccionario de colores asociados a cada tecnología\n",
    "colores_tecnologia = {tec: colores[i % len(colores)] for i, tec in enumerate(tec_select)}"
   ]
  },
  {
   "cell_type": "code",
   "execution_count": 34,
   "metadata": {},
   "outputs": [
    {
     "data": {
      "text/plain": [
       "{'Ciclo combinado': '#555867',\n",
       " 'Hidráulica': '#4be4ff',\n",
       " 'Nuclear': '#ff2b2b',\n",
       " 'Solar fotovoltaica': '#ff8700',\n",
       " 'Turbinación bombeo': '#004280',\n",
       " 'Eólica': '#09ab3b',\n",
       " 'Cogeneración': '#6d3fc0'}"
      ]
     },
     "execution_count": 34,
     "metadata": {},
     "output_type": "execute_result"
    }
   ],
   "source": [
    "colores_tecnologia"
   ]
  },
  {
   "cell_type": "code",
   "execution_count": 35,
   "metadata": {},
   "outputs": [
    {
     "data": {
      "application/vnd.plotly.v1+json": {
       "config": {
        "plotlyServerURL": "https://plot.ly"
       },
       "data": [
        {
         "customdata": [
          [
           "Nuclear",
           0.849
          ]
         ],
         "hovertemplate": "<b>%{hovertext}</b><br><br>pot_GW=%{x}<br>gen_TWh=%{y}<br>horas_gen=%{marker.size}<br>FC=%{customdata[1]}<extra></extra>",
         "hovertext": [
          "Nuclear"
         ],
         "legendgroup": "Nuclear",
         "marker": {
          "color": "#ff2b2b",
          "size": [
           6212
          ],
          "sizemode": "area",
          "sizeref": 0.6212,
          "symbol": "circle"
         },
         "mode": "markers",
         "name": "Nuclear",
         "orientation": "v",
         "showlegend": true,
         "text": [
          "Nuclear",
          "Cogeneración",
          "Hidráulica",
          "Eólica",
          "Turbinación bombeo",
          "Solar fotovoltaica",
          "Ciclo combinado"
         ],
         "textposition": "middle center",
         "type": "scatter",
         "x": [
          7.1
         ],
         "xaxis": "x",
         "y": [
          44.2
         ],
         "yaxis": "y"
        },
        {
         "customdata": [
          [
           "Cogeneración",
           0.324
          ]
         ],
         "hovertemplate": "<b>%{hovertext}</b><br><br>pot_GW=%{x}<br>gen_TWh=%{y}<br>horas_gen=%{marker.size}<br>FC=%{customdata[1]}<extra></extra>",
         "hovertext": [
          "Cogeneración"
         ],
         "legendgroup": "Cogeneración",
         "marker": {
          "color": "#6d3fc0",
          "size": [
           2373
          ],
          "sizemode": "area",
          "sizeref": 0.6212,
          "symbol": "circle"
         },
         "mode": "markers",
         "name": "Cogeneración",
         "orientation": "v",
         "showlegend": true,
         "text": [
          "Nuclear",
          "Cogeneración",
          "Hidráulica",
          "Eólica",
          "Turbinación bombeo",
          "Solar fotovoltaica",
          "Ciclo combinado"
         ],
         "textposition": "middle center",
         "type": "scatter",
         "x": [
          5.6
         ],
         "xaxis": "x",
         "y": [
          13.3
         ],
         "yaxis": "y"
        },
        {
         "customdata": [
          [
           "Hidráulica",
           0.234
          ]
         ],
         "hovertemplate": "<b>%{hovertext}</b><br><br>pot_GW=%{x}<br>gen_TWh=%{y}<br>horas_gen=%{marker.size}<br>FC=%{customdata[1]}<extra></extra>",
         "hovertext": [
          "Hidráulica"
         ],
         "legendgroup": "Hidráulica",
         "marker": {
          "color": "#4be4ff",
          "size": [
           1710
          ],
          "sizemode": "area",
          "sizeref": 0.6212,
          "symbol": "circle"
         },
         "mode": "markers",
         "name": "Hidráulica",
         "orientation": "v",
         "showlegend": true,
         "text": [
          "Nuclear",
          "Cogeneración",
          "Hidráulica",
          "Eólica",
          "Turbinación bombeo",
          "Solar fotovoltaica",
          "Ciclo combinado"
         ],
         "textposition": "middle center",
         "type": "scatter",
         "x": [
          17.1
         ],
         "xaxis": "x",
         "y": [
          29.3
         ],
         "yaxis": "y"
        },
        {
         "customdata": [
          [
           "Eólica",
           0.222
          ]
         ],
         "hovertemplate": "<b>%{hovertext}</b><br><br>pot_GW=%{x}<br>gen_TWh=%{y}<br>horas_gen=%{marker.size}<br>FC=%{customdata[1]}<extra></extra>",
         "hovertext": [
          "Eólica"
         ],
         "legendgroup": "Eólica",
         "marker": {
          "color": "#09ab3b",
          "size": [
           1622
          ],
          "sizemode": "area",
          "sizeref": 0.6212,
          "symbol": "circle"
         },
         "mode": "markers",
         "name": "Eólica",
         "orientation": "v",
         "showlegend": true,
         "text": [
          "Nuclear",
          "Cogeneración",
          "Hidráulica",
          "Eólica",
          "Turbinación bombeo",
          "Solar fotovoltaica",
          "Ciclo combinado"
         ],
         "textposition": "middle center",
         "type": "scatter",
         "x": [
          31.6
         ],
         "xaxis": "x",
         "y": [
          50.7
         ],
         "yaxis": "y"
        },
        {
         "customdata": [
          [
           "Turbinación bombeo",
           0.198
          ]
         ],
         "hovertemplate": "<b>%{hovertext}</b><br><br>pot_GW=%{x}<br>gen_TWh=%{y}<br>horas_gen=%{marker.size}<br>FC=%{customdata[1]}<extra></extra>",
         "hovertext": [
          "Turbinación bombeo"
         ],
         "legendgroup": "Turbinación bombeo",
         "marker": {
          "color": "#004280",
          "size": [
           1449
          ],
          "sizemode": "area",
          "sizeref": 0.6212,
          "symbol": "circle"
         },
         "mode": "markers",
         "name": "Turbinación bombeo",
         "orientation": "v",
         "showlegend": true,
         "text": [
          "Nuclear",
          "Cogeneración",
          "Hidráulica",
          "Eólica",
          "Turbinación bombeo",
          "Solar fotovoltaica",
          "Ciclo combinado"
         ],
         "textposition": "middle center",
         "type": "scatter",
         "x": [
          3.3
         ],
         "xaxis": "x",
         "y": [
          4.8
         ],
         "yaxis": "y"
        },
        {
         "customdata": [
          [
           "Solar fotovoltaica",
           0.192
          ]
         ],
         "hovertemplate": "<b>%{hovertext}</b><br><br>pot_GW=%{x}<br>gen_TWh=%{y}<br>horas_gen=%{marker.size}<br>FC=%{customdata[1]}<extra></extra>",
         "hovertext": [
          "Solar fotovoltaica"
         ],
         "legendgroup": "Solar fotovoltaica",
         "marker": {
          "color": "#ff8700",
          "size": [
           1402
          ],
          "sizemode": "area",
          "sizeref": 0.6212,
          "symbol": "circle"
         },
         "mode": "markers",
         "name": "Solar fotovoltaica",
         "orientation": "v",
         "showlegend": true,
         "text": [
          "Nuclear",
          "Cogeneración",
          "Hidráulica",
          "Eólica",
          "Turbinación bombeo",
          "Solar fotovoltaica",
          "Ciclo combinado"
         ],
         "textposition": "middle center",
         "type": "scatter",
         "x": [
          29.6
         ],
         "xaxis": "x",
         "y": [
          39.7
         ],
         "yaxis": "y"
        },
        {
         "customdata": [
          [
           "Ciclo combinado",
           0.135
          ]
         ],
         "hovertemplate": "<b>%{hovertext}</b><br><br>pot_GW=%{x}<br>gen_TWh=%{y}<br>horas_gen=%{marker.size}<br>FC=%{customdata[1]}<extra></extra>",
         "hovertext": [
          "Ciclo combinado"
         ],
         "legendgroup": "Ciclo combinado",
         "marker": {
          "color": "#555867",
          "size": [
           989
          ],
          "sizemode": "area",
          "sizeref": 0.6212,
          "symbol": "circle"
         },
         "mode": "markers",
         "name": "Ciclo combinado",
         "orientation": "v",
         "showlegend": true,
         "text": [
          "Nuclear",
          "Cogeneración",
          "Hidráulica",
          "Eólica",
          "Turbinación bombeo",
          "Solar fotovoltaica",
          "Ciclo combinado"
         ],
         "textposition": "middle center",
         "type": "scatter",
         "x": [
          26.3
         ],
         "xaxis": "x",
         "y": [
          26.1
         ],
         "yaxis": "y"
        }
       ],
       "layout": {
        "legend": {
         "itemsizing": "constant",
         "title": {
          "text": "tecnologia"
         },
         "tracegroupgap": 0
        },
        "margin": {
         "t": 60
        },
        "template": {
         "data": {
          "bar": [
           {
            "error_x": {
             "color": "#2a3f5f"
            },
            "error_y": {
             "color": "#2a3f5f"
            },
            "marker": {
             "line": {
              "color": "#E5ECF6",
              "width": 0.5
             },
             "pattern": {
              "fillmode": "overlay",
              "size": 10,
              "solidity": 0.2
             }
            },
            "type": "bar"
           }
          ],
          "barpolar": [
           {
            "marker": {
             "line": {
              "color": "#E5ECF6",
              "width": 0.5
             },
             "pattern": {
              "fillmode": "overlay",
              "size": 10,
              "solidity": 0.2
             }
            },
            "type": "barpolar"
           }
          ],
          "carpet": [
           {
            "aaxis": {
             "endlinecolor": "#2a3f5f",
             "gridcolor": "white",
             "linecolor": "white",
             "minorgridcolor": "white",
             "startlinecolor": "#2a3f5f"
            },
            "baxis": {
             "endlinecolor": "#2a3f5f",
             "gridcolor": "white",
             "linecolor": "white",
             "minorgridcolor": "white",
             "startlinecolor": "#2a3f5f"
            },
            "type": "carpet"
           }
          ],
          "choropleth": [
           {
            "colorbar": {
             "outlinewidth": 0,
             "ticks": ""
            },
            "type": "choropleth"
           }
          ],
          "contour": [
           {
            "colorbar": {
             "outlinewidth": 0,
             "ticks": ""
            },
            "colorscale": [
             [
              0,
              "#0d0887"
             ],
             [
              0.1111111111111111,
              "#46039f"
             ],
             [
              0.2222222222222222,
              "#7201a8"
             ],
             [
              0.3333333333333333,
              "#9c179e"
             ],
             [
              0.4444444444444444,
              "#bd3786"
             ],
             [
              0.5555555555555556,
              "#d8576b"
             ],
             [
              0.6666666666666666,
              "#ed7953"
             ],
             [
              0.7777777777777778,
              "#fb9f3a"
             ],
             [
              0.8888888888888888,
              "#fdca26"
             ],
             [
              1,
              "#f0f921"
             ]
            ],
            "type": "contour"
           }
          ],
          "contourcarpet": [
           {
            "colorbar": {
             "outlinewidth": 0,
             "ticks": ""
            },
            "type": "contourcarpet"
           }
          ],
          "heatmap": [
           {
            "colorbar": {
             "outlinewidth": 0,
             "ticks": ""
            },
            "colorscale": [
             [
              0,
              "#0d0887"
             ],
             [
              0.1111111111111111,
              "#46039f"
             ],
             [
              0.2222222222222222,
              "#7201a8"
             ],
             [
              0.3333333333333333,
              "#9c179e"
             ],
             [
              0.4444444444444444,
              "#bd3786"
             ],
             [
              0.5555555555555556,
              "#d8576b"
             ],
             [
              0.6666666666666666,
              "#ed7953"
             ],
             [
              0.7777777777777778,
              "#fb9f3a"
             ],
             [
              0.8888888888888888,
              "#fdca26"
             ],
             [
              1,
              "#f0f921"
             ]
            ],
            "type": "heatmap"
           }
          ],
          "heatmapgl": [
           {
            "colorbar": {
             "outlinewidth": 0,
             "ticks": ""
            },
            "colorscale": [
             [
              0,
              "#0d0887"
             ],
             [
              0.1111111111111111,
              "#46039f"
             ],
             [
              0.2222222222222222,
              "#7201a8"
             ],
             [
              0.3333333333333333,
              "#9c179e"
             ],
             [
              0.4444444444444444,
              "#bd3786"
             ],
             [
              0.5555555555555556,
              "#d8576b"
             ],
             [
              0.6666666666666666,
              "#ed7953"
             ],
             [
              0.7777777777777778,
              "#fb9f3a"
             ],
             [
              0.8888888888888888,
              "#fdca26"
             ],
             [
              1,
              "#f0f921"
             ]
            ],
            "type": "heatmapgl"
           }
          ],
          "histogram": [
           {
            "marker": {
             "pattern": {
              "fillmode": "overlay",
              "size": 10,
              "solidity": 0.2
             }
            },
            "type": "histogram"
           }
          ],
          "histogram2d": [
           {
            "colorbar": {
             "outlinewidth": 0,
             "ticks": ""
            },
            "colorscale": [
             [
              0,
              "#0d0887"
             ],
             [
              0.1111111111111111,
              "#46039f"
             ],
             [
              0.2222222222222222,
              "#7201a8"
             ],
             [
              0.3333333333333333,
              "#9c179e"
             ],
             [
              0.4444444444444444,
              "#bd3786"
             ],
             [
              0.5555555555555556,
              "#d8576b"
             ],
             [
              0.6666666666666666,
              "#ed7953"
             ],
             [
              0.7777777777777778,
              "#fb9f3a"
             ],
             [
              0.8888888888888888,
              "#fdca26"
             ],
             [
              1,
              "#f0f921"
             ]
            ],
            "type": "histogram2d"
           }
          ],
          "histogram2dcontour": [
           {
            "colorbar": {
             "outlinewidth": 0,
             "ticks": ""
            },
            "colorscale": [
             [
              0,
              "#0d0887"
             ],
             [
              0.1111111111111111,
              "#46039f"
             ],
             [
              0.2222222222222222,
              "#7201a8"
             ],
             [
              0.3333333333333333,
              "#9c179e"
             ],
             [
              0.4444444444444444,
              "#bd3786"
             ],
             [
              0.5555555555555556,
              "#d8576b"
             ],
             [
              0.6666666666666666,
              "#ed7953"
             ],
             [
              0.7777777777777778,
              "#fb9f3a"
             ],
             [
              0.8888888888888888,
              "#fdca26"
             ],
             [
              1,
              "#f0f921"
             ]
            ],
            "type": "histogram2dcontour"
           }
          ],
          "mesh3d": [
           {
            "colorbar": {
             "outlinewidth": 0,
             "ticks": ""
            },
            "type": "mesh3d"
           }
          ],
          "parcoords": [
           {
            "line": {
             "colorbar": {
              "outlinewidth": 0,
              "ticks": ""
             }
            },
            "type": "parcoords"
           }
          ],
          "pie": [
           {
            "automargin": true,
            "type": "pie"
           }
          ],
          "scatter": [
           {
            "fillpattern": {
             "fillmode": "overlay",
             "size": 10,
             "solidity": 0.2
            },
            "type": "scatter"
           }
          ],
          "scatter3d": [
           {
            "line": {
             "colorbar": {
              "outlinewidth": 0,
              "ticks": ""
             }
            },
            "marker": {
             "colorbar": {
              "outlinewidth": 0,
              "ticks": ""
             }
            },
            "type": "scatter3d"
           }
          ],
          "scattercarpet": [
           {
            "marker": {
             "colorbar": {
              "outlinewidth": 0,
              "ticks": ""
             }
            },
            "type": "scattercarpet"
           }
          ],
          "scattergeo": [
           {
            "marker": {
             "colorbar": {
              "outlinewidth": 0,
              "ticks": ""
             }
            },
            "type": "scattergeo"
           }
          ],
          "scattergl": [
           {
            "marker": {
             "colorbar": {
              "outlinewidth": 0,
              "ticks": ""
             }
            },
            "type": "scattergl"
           }
          ],
          "scattermapbox": [
           {
            "marker": {
             "colorbar": {
              "outlinewidth": 0,
              "ticks": ""
             }
            },
            "type": "scattermapbox"
           }
          ],
          "scatterpolar": [
           {
            "marker": {
             "colorbar": {
              "outlinewidth": 0,
              "ticks": ""
             }
            },
            "type": "scatterpolar"
           }
          ],
          "scatterpolargl": [
           {
            "marker": {
             "colorbar": {
              "outlinewidth": 0,
              "ticks": ""
             }
            },
            "type": "scatterpolargl"
           }
          ],
          "scatterternary": [
           {
            "marker": {
             "colorbar": {
              "outlinewidth": 0,
              "ticks": ""
             }
            },
            "type": "scatterternary"
           }
          ],
          "surface": [
           {
            "colorbar": {
             "outlinewidth": 0,
             "ticks": ""
            },
            "colorscale": [
             [
              0,
              "#0d0887"
             ],
             [
              0.1111111111111111,
              "#46039f"
             ],
             [
              0.2222222222222222,
              "#7201a8"
             ],
             [
              0.3333333333333333,
              "#9c179e"
             ],
             [
              0.4444444444444444,
              "#bd3786"
             ],
             [
              0.5555555555555556,
              "#d8576b"
             ],
             [
              0.6666666666666666,
              "#ed7953"
             ],
             [
              0.7777777777777778,
              "#fb9f3a"
             ],
             [
              0.8888888888888888,
              "#fdca26"
             ],
             [
              1,
              "#f0f921"
             ]
            ],
            "type": "surface"
           }
          ],
          "table": [
           {
            "cells": {
             "fill": {
              "color": "#EBF0F8"
             },
             "line": {
              "color": "white"
             }
            },
            "header": {
             "fill": {
              "color": "#C8D4E3"
             },
             "line": {
              "color": "white"
             }
            },
            "type": "table"
           }
          ]
         },
         "layout": {
          "annotationdefaults": {
           "arrowcolor": "#2a3f5f",
           "arrowhead": 0,
           "arrowwidth": 1
          },
          "autotypenumbers": "strict",
          "coloraxis": {
           "colorbar": {
            "outlinewidth": 0,
            "ticks": ""
           }
          },
          "colorscale": {
           "diverging": [
            [
             0,
             "#8e0152"
            ],
            [
             0.1,
             "#c51b7d"
            ],
            [
             0.2,
             "#de77ae"
            ],
            [
             0.3,
             "#f1b6da"
            ],
            [
             0.4,
             "#fde0ef"
            ],
            [
             0.5,
             "#f7f7f7"
            ],
            [
             0.6,
             "#e6f5d0"
            ],
            [
             0.7,
             "#b8e186"
            ],
            [
             0.8,
             "#7fbc41"
            ],
            [
             0.9,
             "#4d9221"
            ],
            [
             1,
             "#276419"
            ]
           ],
           "sequential": [
            [
             0,
             "#0d0887"
            ],
            [
             0.1111111111111111,
             "#46039f"
            ],
            [
             0.2222222222222222,
             "#7201a8"
            ],
            [
             0.3333333333333333,
             "#9c179e"
            ],
            [
             0.4444444444444444,
             "#bd3786"
            ],
            [
             0.5555555555555556,
             "#d8576b"
            ],
            [
             0.6666666666666666,
             "#ed7953"
            ],
            [
             0.7777777777777778,
             "#fb9f3a"
            ],
            [
             0.8888888888888888,
             "#fdca26"
            ],
            [
             1,
             "#f0f921"
            ]
           ],
           "sequentialminus": [
            [
             0,
             "#0d0887"
            ],
            [
             0.1111111111111111,
             "#46039f"
            ],
            [
             0.2222222222222222,
             "#7201a8"
            ],
            [
             0.3333333333333333,
             "#9c179e"
            ],
            [
             0.4444444444444444,
             "#bd3786"
            ],
            [
             0.5555555555555556,
             "#d8576b"
            ],
            [
             0.6666666666666666,
             "#ed7953"
            ],
            [
             0.7777777777777778,
             "#fb9f3a"
            ],
            [
             0.8888888888888888,
             "#fdca26"
            ],
            [
             1,
             "#f0f921"
            ]
           ]
          },
          "colorway": [
           "#636efa",
           "#EF553B",
           "#00cc96",
           "#ab63fa",
           "#FFA15A",
           "#19d3f3",
           "#FF6692",
           "#B6E880",
           "#FF97FF",
           "#FECB52"
          ],
          "font": {
           "color": "#2a3f5f"
          },
          "geo": {
           "bgcolor": "white",
           "lakecolor": "white",
           "landcolor": "#E5ECF6",
           "showlakes": true,
           "showland": true,
           "subunitcolor": "white"
          },
          "hoverlabel": {
           "align": "left"
          },
          "hovermode": "closest",
          "mapbox": {
           "style": "light"
          },
          "paper_bgcolor": "white",
          "plot_bgcolor": "#E5ECF6",
          "polar": {
           "angularaxis": {
            "gridcolor": "white",
            "linecolor": "white",
            "ticks": ""
           },
           "bgcolor": "#E5ECF6",
           "radialaxis": {
            "gridcolor": "white",
            "linecolor": "white",
            "ticks": ""
           }
          },
          "scene": {
           "xaxis": {
            "backgroundcolor": "#E5ECF6",
            "gridcolor": "white",
            "gridwidth": 2,
            "linecolor": "white",
            "showbackground": true,
            "ticks": "",
            "zerolinecolor": "white"
           },
           "yaxis": {
            "backgroundcolor": "#E5ECF6",
            "gridcolor": "white",
            "gridwidth": 2,
            "linecolor": "white",
            "showbackground": true,
            "ticks": "",
            "zerolinecolor": "white"
           },
           "zaxis": {
            "backgroundcolor": "#E5ECF6",
            "gridcolor": "white",
            "gridwidth": 2,
            "linecolor": "white",
            "showbackground": true,
            "ticks": "",
            "zerolinecolor": "white"
           }
          },
          "shapedefaults": {
           "line": {
            "color": "#2a3f5f"
           }
          },
          "ternary": {
           "aaxis": {
            "gridcolor": "white",
            "linecolor": "white",
            "ticks": ""
           },
           "baxis": {
            "gridcolor": "white",
            "linecolor": "white",
            "ticks": ""
           },
           "bgcolor": "#E5ECF6",
           "caxis": {
            "gridcolor": "white",
            "linecolor": "white",
            "ticks": ""
           }
          },
          "title": {
           "x": 0.05
          },
          "xaxis": {
           "automargin": true,
           "gridcolor": "white",
           "linecolor": "white",
           "ticks": "",
           "title": {
            "standoff": 15
           },
           "zerolinecolor": "white",
           "zerolinewidth": 2
          },
          "yaxis": {
           "automargin": true,
           "gridcolor": "white",
           "linecolor": "white",
           "ticks": "",
           "title": {
            "standoff": 15
           },
           "zerolinecolor": "white",
           "zerolinewidth": 2
          }
         }
        },
        "title": {
         "text": "Potencia instalada, generación y sus horas equivalentes",
         "x": 0.5,
         "xanchor": "center"
        },
        "width": 1300,
        "xaxis": {
         "anchor": "y",
         "domain": [
          0,
          1
         ],
         "title": {
          "text": "pot_GW"
         }
        },
        "yaxis": {
         "anchor": "x",
         "domain": [
          0,
          1
         ],
         "title": {
          "text": "gen_TWh"
         }
        }
       }
      }
     },
     "metadata": {},
     "output_type": "display_data"
    }
   ],
   "source": [
    "graf_bolas=px.scatter(df_out_ratio_select_fc,x='pot_GW',y='gen_TWh',size='horas_gen', \n",
    "                    size_max=100, color=df_out_ratio_select_fc['tecnologia'], \n",
    "                    hover_name=df_out_ratio_select_fc['tecnologia'],\n",
    "                    color_discrete_map=colores_tecnologia,\n",
    "                    width=1300,\n",
    "                    hover_data={\n",
    "                        'tecnologia':False,\n",
    "                        'FC':True\n",
    "                    }\n",
    "                    )\n",
    "graf_bolas.update_traces(\n",
    "    text=df_out_ratio_select_fc['tecnologia'],  # Usa los índices (tecnologías) como texto\n",
    "    textposition='middle center',  # Coloca el texto en el centro de las burbujas\n",
    "    #textfont=dict(size=12, color=\"black\"),  # Tamaño y color del texto\n",
    "    )\n",
    "graf_bolas.update_layout(\n",
    "    title=dict(\n",
    "        text='Potencia instalada, generación y sus horas equivalentes',\n",
    "        x=.5,\n",
    "        xanchor='center'\n",
    "\n",
    "    )\n",
    "\n",
    ")"
   ]
  },
  {
   "cell_type": "code",
   "execution_count": 36,
   "metadata": {},
   "outputs": [
    {
     "data": {
      "application/vnd.plotly.v1+json": {
       "config": {
        "plotlyServerURL": "https://plot.ly"
       },
       "data": [
        {
         "alignmentgroup": "True",
         "customdata": [
          [
           6212
          ]
         ],
         "hovertemplate": "<b>%{hovertext}</b><br><br>FC=%{text}<br>horas_gen=%{customdata[0]}<extra></extra>",
         "hovertext": [
          "Nuclear"
         ],
         "legendgroup": "Nuclear",
         "marker": {
          "color": "#ff2b2b",
          "pattern": {
           "shape": ""
          }
         },
         "name": "Nuclear",
         "offsetgroup": "Nuclear",
         "orientation": "h",
         "showlegend": true,
         "text": [
          0.849
         ],
         "textposition": "inside",
         "texttemplate": "%{text:.1%}",
         "type": "bar",
         "x": [
          0.849
         ],
         "xaxis": "x",
         "y": [
          "Nuclear"
         ],
         "yaxis": "y"
        },
        {
         "alignmentgroup": "True",
         "customdata": [
          [
           2373
          ]
         ],
         "hovertemplate": "<b>%{hovertext}</b><br><br>FC=%{text}<br>horas_gen=%{customdata[0]}<extra></extra>",
         "hovertext": [
          "Cogeneración"
         ],
         "legendgroup": "Cogeneración",
         "marker": {
          "color": "#6d3fc0",
          "pattern": {
           "shape": ""
          }
         },
         "name": "Cogeneración",
         "offsetgroup": "Cogeneración",
         "orientation": "h",
         "showlegend": true,
         "text": [
          0.324
         ],
         "textposition": "inside",
         "texttemplate": "%{text:.1%}",
         "type": "bar",
         "x": [
          0.324
         ],
         "xaxis": "x",
         "y": [
          "Cogeneración"
         ],
         "yaxis": "y"
        },
        {
         "alignmentgroup": "True",
         "customdata": [
          [
           1710
          ]
         ],
         "hovertemplate": "<b>%{hovertext}</b><br><br>FC=%{text}<br>horas_gen=%{customdata[0]}<extra></extra>",
         "hovertext": [
          "Hidráulica"
         ],
         "legendgroup": "Hidráulica",
         "marker": {
          "color": "#4be4ff",
          "pattern": {
           "shape": ""
          }
         },
         "name": "Hidráulica",
         "offsetgroup": "Hidráulica",
         "orientation": "h",
         "showlegend": true,
         "text": [
          0.234
         ],
         "textposition": "inside",
         "texttemplate": "%{text:.1%}",
         "type": "bar",
         "x": [
          0.234
         ],
         "xaxis": "x",
         "y": [
          "Hidráulica"
         ],
         "yaxis": "y"
        },
        {
         "alignmentgroup": "True",
         "customdata": [
          [
           1622
          ]
         ],
         "hovertemplate": "<b>%{hovertext}</b><br><br>FC=%{text}<br>horas_gen=%{customdata[0]}<extra></extra>",
         "hovertext": [
          "Eólica"
         ],
         "legendgroup": "Eólica",
         "marker": {
          "color": "#09ab3b",
          "pattern": {
           "shape": ""
          }
         },
         "name": "Eólica",
         "offsetgroup": "Eólica",
         "orientation": "h",
         "showlegend": true,
         "text": [
          0.222
         ],
         "textposition": "inside",
         "texttemplate": "%{text:.1%}",
         "type": "bar",
         "x": [
          0.222
         ],
         "xaxis": "x",
         "y": [
          "Eólica"
         ],
         "yaxis": "y"
        },
        {
         "alignmentgroup": "True",
         "customdata": [
          [
           1449
          ]
         ],
         "hovertemplate": "<b>%{hovertext}</b><br><br>FC=%{text}<br>horas_gen=%{customdata[0]}<extra></extra>",
         "hovertext": [
          "Turbinación bombeo"
         ],
         "legendgroup": "Turbinación bombeo",
         "marker": {
          "color": "#004280",
          "pattern": {
           "shape": ""
          }
         },
         "name": "Turbinación bombeo",
         "offsetgroup": "Turbinación bombeo",
         "orientation": "h",
         "showlegend": true,
         "text": [
          0.198
         ],
         "textposition": "inside",
         "texttemplate": "%{text:.1%}",
         "type": "bar",
         "x": [
          0.198
         ],
         "xaxis": "x",
         "y": [
          "Turbinación bombeo"
         ],
         "yaxis": "y"
        },
        {
         "alignmentgroup": "True",
         "customdata": [
          [
           1402
          ]
         ],
         "hovertemplate": "<b>%{hovertext}</b><br><br>FC=%{text}<br>horas_gen=%{customdata[0]}<extra></extra>",
         "hovertext": [
          "Solar fotovoltaica"
         ],
         "legendgroup": "Solar fotovoltaica",
         "marker": {
          "color": "#ff8700",
          "pattern": {
           "shape": ""
          }
         },
         "name": "Solar fotovoltaica",
         "offsetgroup": "Solar fotovoltaica",
         "orientation": "h",
         "showlegend": true,
         "text": [
          0.192
         ],
         "textposition": "inside",
         "texttemplate": "%{text:.1%}",
         "type": "bar",
         "x": [
          0.192
         ],
         "xaxis": "x",
         "y": [
          "Solar fotovoltaica"
         ],
         "yaxis": "y"
        },
        {
         "alignmentgroup": "True",
         "customdata": [
          [
           989
          ]
         ],
         "hovertemplate": "<b>%{hovertext}</b><br><br>FC=%{text}<br>horas_gen=%{customdata[0]}<extra></extra>",
         "hovertext": [
          "Ciclo combinado"
         ],
         "legendgroup": "Ciclo combinado",
         "marker": {
          "color": "#555867",
          "pattern": {
           "shape": ""
          }
         },
         "name": "Ciclo combinado",
         "offsetgroup": "Ciclo combinado",
         "orientation": "h",
         "showlegend": true,
         "text": [
          0.135
         ],
         "textposition": "inside",
         "texttemplate": "%{text:.1%}",
         "type": "bar",
         "x": [
          0.135
         ],
         "xaxis": "x",
         "y": [
          "Ciclo combinado"
         ],
         "yaxis": "y"
        }
       ],
       "layout": {
        "bargap": 0.4,
        "barmode": "relative",
        "legend": {
         "title": {
          "text": "tecnologia"
         },
         "tracegroupgap": 0
        },
        "margin": {
         "t": 60
        },
        "template": {
         "data": {
          "bar": [
           {
            "error_x": {
             "color": "#2a3f5f"
            },
            "error_y": {
             "color": "#2a3f5f"
            },
            "marker": {
             "line": {
              "color": "#E5ECF6",
              "width": 0.5
             },
             "pattern": {
              "fillmode": "overlay",
              "size": 10,
              "solidity": 0.2
             }
            },
            "type": "bar"
           }
          ],
          "barpolar": [
           {
            "marker": {
             "line": {
              "color": "#E5ECF6",
              "width": 0.5
             },
             "pattern": {
              "fillmode": "overlay",
              "size": 10,
              "solidity": 0.2
             }
            },
            "type": "barpolar"
           }
          ],
          "carpet": [
           {
            "aaxis": {
             "endlinecolor": "#2a3f5f",
             "gridcolor": "white",
             "linecolor": "white",
             "minorgridcolor": "white",
             "startlinecolor": "#2a3f5f"
            },
            "baxis": {
             "endlinecolor": "#2a3f5f",
             "gridcolor": "white",
             "linecolor": "white",
             "minorgridcolor": "white",
             "startlinecolor": "#2a3f5f"
            },
            "type": "carpet"
           }
          ],
          "choropleth": [
           {
            "colorbar": {
             "outlinewidth": 0,
             "ticks": ""
            },
            "type": "choropleth"
           }
          ],
          "contour": [
           {
            "colorbar": {
             "outlinewidth": 0,
             "ticks": ""
            },
            "colorscale": [
             [
              0,
              "#0d0887"
             ],
             [
              0.1111111111111111,
              "#46039f"
             ],
             [
              0.2222222222222222,
              "#7201a8"
             ],
             [
              0.3333333333333333,
              "#9c179e"
             ],
             [
              0.4444444444444444,
              "#bd3786"
             ],
             [
              0.5555555555555556,
              "#d8576b"
             ],
             [
              0.6666666666666666,
              "#ed7953"
             ],
             [
              0.7777777777777778,
              "#fb9f3a"
             ],
             [
              0.8888888888888888,
              "#fdca26"
             ],
             [
              1,
              "#f0f921"
             ]
            ],
            "type": "contour"
           }
          ],
          "contourcarpet": [
           {
            "colorbar": {
             "outlinewidth": 0,
             "ticks": ""
            },
            "type": "contourcarpet"
           }
          ],
          "heatmap": [
           {
            "colorbar": {
             "outlinewidth": 0,
             "ticks": ""
            },
            "colorscale": [
             [
              0,
              "#0d0887"
             ],
             [
              0.1111111111111111,
              "#46039f"
             ],
             [
              0.2222222222222222,
              "#7201a8"
             ],
             [
              0.3333333333333333,
              "#9c179e"
             ],
             [
              0.4444444444444444,
              "#bd3786"
             ],
             [
              0.5555555555555556,
              "#d8576b"
             ],
             [
              0.6666666666666666,
              "#ed7953"
             ],
             [
              0.7777777777777778,
              "#fb9f3a"
             ],
             [
              0.8888888888888888,
              "#fdca26"
             ],
             [
              1,
              "#f0f921"
             ]
            ],
            "type": "heatmap"
           }
          ],
          "heatmapgl": [
           {
            "colorbar": {
             "outlinewidth": 0,
             "ticks": ""
            },
            "colorscale": [
             [
              0,
              "#0d0887"
             ],
             [
              0.1111111111111111,
              "#46039f"
             ],
             [
              0.2222222222222222,
              "#7201a8"
             ],
             [
              0.3333333333333333,
              "#9c179e"
             ],
             [
              0.4444444444444444,
              "#bd3786"
             ],
             [
              0.5555555555555556,
              "#d8576b"
             ],
             [
              0.6666666666666666,
              "#ed7953"
             ],
             [
              0.7777777777777778,
              "#fb9f3a"
             ],
             [
              0.8888888888888888,
              "#fdca26"
             ],
             [
              1,
              "#f0f921"
             ]
            ],
            "type": "heatmapgl"
           }
          ],
          "histogram": [
           {
            "marker": {
             "pattern": {
              "fillmode": "overlay",
              "size": 10,
              "solidity": 0.2
             }
            },
            "type": "histogram"
           }
          ],
          "histogram2d": [
           {
            "colorbar": {
             "outlinewidth": 0,
             "ticks": ""
            },
            "colorscale": [
             [
              0,
              "#0d0887"
             ],
             [
              0.1111111111111111,
              "#46039f"
             ],
             [
              0.2222222222222222,
              "#7201a8"
             ],
             [
              0.3333333333333333,
              "#9c179e"
             ],
             [
              0.4444444444444444,
              "#bd3786"
             ],
             [
              0.5555555555555556,
              "#d8576b"
             ],
             [
              0.6666666666666666,
              "#ed7953"
             ],
             [
              0.7777777777777778,
              "#fb9f3a"
             ],
             [
              0.8888888888888888,
              "#fdca26"
             ],
             [
              1,
              "#f0f921"
             ]
            ],
            "type": "histogram2d"
           }
          ],
          "histogram2dcontour": [
           {
            "colorbar": {
             "outlinewidth": 0,
             "ticks": ""
            },
            "colorscale": [
             [
              0,
              "#0d0887"
             ],
             [
              0.1111111111111111,
              "#46039f"
             ],
             [
              0.2222222222222222,
              "#7201a8"
             ],
             [
              0.3333333333333333,
              "#9c179e"
             ],
             [
              0.4444444444444444,
              "#bd3786"
             ],
             [
              0.5555555555555556,
              "#d8576b"
             ],
             [
              0.6666666666666666,
              "#ed7953"
             ],
             [
              0.7777777777777778,
              "#fb9f3a"
             ],
             [
              0.8888888888888888,
              "#fdca26"
             ],
             [
              1,
              "#f0f921"
             ]
            ],
            "type": "histogram2dcontour"
           }
          ],
          "mesh3d": [
           {
            "colorbar": {
             "outlinewidth": 0,
             "ticks": ""
            },
            "type": "mesh3d"
           }
          ],
          "parcoords": [
           {
            "line": {
             "colorbar": {
              "outlinewidth": 0,
              "ticks": ""
             }
            },
            "type": "parcoords"
           }
          ],
          "pie": [
           {
            "automargin": true,
            "type": "pie"
           }
          ],
          "scatter": [
           {
            "fillpattern": {
             "fillmode": "overlay",
             "size": 10,
             "solidity": 0.2
            },
            "type": "scatter"
           }
          ],
          "scatter3d": [
           {
            "line": {
             "colorbar": {
              "outlinewidth": 0,
              "ticks": ""
             }
            },
            "marker": {
             "colorbar": {
              "outlinewidth": 0,
              "ticks": ""
             }
            },
            "type": "scatter3d"
           }
          ],
          "scattercarpet": [
           {
            "marker": {
             "colorbar": {
              "outlinewidth": 0,
              "ticks": ""
             }
            },
            "type": "scattercarpet"
           }
          ],
          "scattergeo": [
           {
            "marker": {
             "colorbar": {
              "outlinewidth": 0,
              "ticks": ""
             }
            },
            "type": "scattergeo"
           }
          ],
          "scattergl": [
           {
            "marker": {
             "colorbar": {
              "outlinewidth": 0,
              "ticks": ""
             }
            },
            "type": "scattergl"
           }
          ],
          "scattermapbox": [
           {
            "marker": {
             "colorbar": {
              "outlinewidth": 0,
              "ticks": ""
             }
            },
            "type": "scattermapbox"
           }
          ],
          "scatterpolar": [
           {
            "marker": {
             "colorbar": {
              "outlinewidth": 0,
              "ticks": ""
             }
            },
            "type": "scatterpolar"
           }
          ],
          "scatterpolargl": [
           {
            "marker": {
             "colorbar": {
              "outlinewidth": 0,
              "ticks": ""
             }
            },
            "type": "scatterpolargl"
           }
          ],
          "scatterternary": [
           {
            "marker": {
             "colorbar": {
              "outlinewidth": 0,
              "ticks": ""
             }
            },
            "type": "scatterternary"
           }
          ],
          "surface": [
           {
            "colorbar": {
             "outlinewidth": 0,
             "ticks": ""
            },
            "colorscale": [
             [
              0,
              "#0d0887"
             ],
             [
              0.1111111111111111,
              "#46039f"
             ],
             [
              0.2222222222222222,
              "#7201a8"
             ],
             [
              0.3333333333333333,
              "#9c179e"
             ],
             [
              0.4444444444444444,
              "#bd3786"
             ],
             [
              0.5555555555555556,
              "#d8576b"
             ],
             [
              0.6666666666666666,
              "#ed7953"
             ],
             [
              0.7777777777777778,
              "#fb9f3a"
             ],
             [
              0.8888888888888888,
              "#fdca26"
             ],
             [
              1,
              "#f0f921"
             ]
            ],
            "type": "surface"
           }
          ],
          "table": [
           {
            "cells": {
             "fill": {
              "color": "#EBF0F8"
             },
             "line": {
              "color": "white"
             }
            },
            "header": {
             "fill": {
              "color": "#C8D4E3"
             },
             "line": {
              "color": "white"
             }
            },
            "type": "table"
           }
          ]
         },
         "layout": {
          "annotationdefaults": {
           "arrowcolor": "#2a3f5f",
           "arrowhead": 0,
           "arrowwidth": 1
          },
          "autotypenumbers": "strict",
          "coloraxis": {
           "colorbar": {
            "outlinewidth": 0,
            "ticks": ""
           }
          },
          "colorscale": {
           "diverging": [
            [
             0,
             "#8e0152"
            ],
            [
             0.1,
             "#c51b7d"
            ],
            [
             0.2,
             "#de77ae"
            ],
            [
             0.3,
             "#f1b6da"
            ],
            [
             0.4,
             "#fde0ef"
            ],
            [
             0.5,
             "#f7f7f7"
            ],
            [
             0.6,
             "#e6f5d0"
            ],
            [
             0.7,
             "#b8e186"
            ],
            [
             0.8,
             "#7fbc41"
            ],
            [
             0.9,
             "#4d9221"
            ],
            [
             1,
             "#276419"
            ]
           ],
           "sequential": [
            [
             0,
             "#0d0887"
            ],
            [
             0.1111111111111111,
             "#46039f"
            ],
            [
             0.2222222222222222,
             "#7201a8"
            ],
            [
             0.3333333333333333,
             "#9c179e"
            ],
            [
             0.4444444444444444,
             "#bd3786"
            ],
            [
             0.5555555555555556,
             "#d8576b"
            ],
            [
             0.6666666666666666,
             "#ed7953"
            ],
            [
             0.7777777777777778,
             "#fb9f3a"
            ],
            [
             0.8888888888888888,
             "#fdca26"
            ],
            [
             1,
             "#f0f921"
            ]
           ],
           "sequentialminus": [
            [
             0,
             "#0d0887"
            ],
            [
             0.1111111111111111,
             "#46039f"
            ],
            [
             0.2222222222222222,
             "#7201a8"
            ],
            [
             0.3333333333333333,
             "#9c179e"
            ],
            [
             0.4444444444444444,
             "#bd3786"
            ],
            [
             0.5555555555555556,
             "#d8576b"
            ],
            [
             0.6666666666666666,
             "#ed7953"
            ],
            [
             0.7777777777777778,
             "#fb9f3a"
            ],
            [
             0.8888888888888888,
             "#fdca26"
            ],
            [
             1,
             "#f0f921"
            ]
           ]
          },
          "colorway": [
           "#636efa",
           "#EF553B",
           "#00cc96",
           "#ab63fa",
           "#FFA15A",
           "#19d3f3",
           "#FF6692",
           "#B6E880",
           "#FF97FF",
           "#FECB52"
          ],
          "font": {
           "color": "#2a3f5f"
          },
          "geo": {
           "bgcolor": "white",
           "lakecolor": "white",
           "landcolor": "#E5ECF6",
           "showlakes": true,
           "showland": true,
           "subunitcolor": "white"
          },
          "hoverlabel": {
           "align": "left"
          },
          "hovermode": "closest",
          "mapbox": {
           "style": "light"
          },
          "paper_bgcolor": "white",
          "plot_bgcolor": "#E5ECF6",
          "polar": {
           "angularaxis": {
            "gridcolor": "white",
            "linecolor": "white",
            "ticks": ""
           },
           "bgcolor": "#E5ECF6",
           "radialaxis": {
            "gridcolor": "white",
            "linecolor": "white",
            "ticks": ""
           }
          },
          "scene": {
           "xaxis": {
            "backgroundcolor": "#E5ECF6",
            "gridcolor": "white",
            "gridwidth": 2,
            "linecolor": "white",
            "showbackground": true,
            "ticks": "",
            "zerolinecolor": "white"
           },
           "yaxis": {
            "backgroundcolor": "#E5ECF6",
            "gridcolor": "white",
            "gridwidth": 2,
            "linecolor": "white",
            "showbackground": true,
            "ticks": "",
            "zerolinecolor": "white"
           },
           "zaxis": {
            "backgroundcolor": "#E5ECF6",
            "gridcolor": "white",
            "gridwidth": 2,
            "linecolor": "white",
            "showbackground": true,
            "ticks": "",
            "zerolinecolor": "white"
           }
          },
          "shapedefaults": {
           "line": {
            "color": "#2a3f5f"
           }
          },
          "ternary": {
           "aaxis": {
            "gridcolor": "white",
            "linecolor": "white",
            "ticks": ""
           },
           "baxis": {
            "gridcolor": "white",
            "linecolor": "white",
            "ticks": ""
           },
           "bgcolor": "#E5ECF6",
           "caxis": {
            "gridcolor": "white",
            "linecolor": "white",
            "ticks": ""
           }
          },
          "title": {
           "x": 0.05
          },
          "xaxis": {
           "automargin": true,
           "gridcolor": "white",
           "linecolor": "white",
           "ticks": "",
           "title": {
            "standoff": 15
           },
           "zerolinecolor": "white",
           "zerolinewidth": 2
          },
          "yaxis": {
           "automargin": true,
           "gridcolor": "white",
           "linecolor": "white",
           "ticks": "",
           "title": {
            "standoff": 15
           },
           "zerolinecolor": "white",
           "zerolinewidth": 2
          }
         }
        },
        "title": {
         "text": "Factor de carga (%)",
         "x": 0.5,
         "xanchor": "center"
        },
        "width": 1300,
        "xaxis": {
         "anchor": "y",
         "domain": [
          0,
          1
         ],
         "tickformat": ".0%",
         "title": {
          "text": "FC"
         }
        },
        "yaxis": {
         "anchor": "x",
         "categoryarray": [
          "Ciclo combinado",
          "Solar fotovoltaica",
          "Turbinación bombeo",
          "Eólica",
          "Hidráulica",
          "Cogeneración",
          "Nuclear"
         ],
         "categoryorder": "array",
         "domain": [
          0,
          1
         ],
         "title": {
          "text": "tecnologia"
         }
        }
       }
      }
     },
     "metadata": {},
     "output_type": "display_data"
    }
   ],
   "source": [
    "graf_FC=px.bar(df_out_ratio_select_fc,x='FC',y='tecnologia',\n",
    "                    orientation='h',\n",
    "                    color=df_out_ratio_select_fc['tecnologia'], \n",
    "                    hover_name=df_out_ratio_select_fc['tecnologia'],\n",
    "                    color_discrete_map=colores_tecnologia,\n",
    "                    width=1300,\n",
    "                    text_auto=True,\n",
    "                    hover_data={\n",
    "                        'tecnologia':False,\n",
    "                        'horas_gen':True\n",
    "                    },\n",
    "                    text='FC',\n",
    "                    \n",
    "                    )\n",
    "graf_FC.update_traces(\n",
    "    texttemplate='%{text:.1%}',\n",
    "    textposition='inside',  # Coloca el texto en el centro de las burbujas\n",
    "    #textfont=dict(size=12, color=\"black\"),  # Tamaño y color del texto\n",
    "    )\n",
    "graf_FC.update_layout(\n",
    "    title=dict(\n",
    "        text='Factor de carga (%)',\n",
    "        x=.5,\n",
    "        xanchor='center',\n",
    "    ),\n",
    "    xaxis_tickformat='.0%',\n",
    "    bargap=.4\n",
    ")\n"
   ]
  },
  {
   "cell_type": "code",
   "execution_count": null,
   "metadata": {},
   "outputs": [],
   "source": []
  },
  {
   "cell_type": "code",
   "execution_count": 37,
   "metadata": {},
   "outputs": [
    {
     "data": {
      "application/vnd.plotly.v1+json": {
       "config": {
        "plotlyServerURL": "https://plot.ly"
       },
       "data": [
        {
         "alignmentgroup": "True",
         "customdata": [
          [
           1838
          ]
         ],
         "hovertemplate": "<b>%{hovertext}</b><br><br>FC_rel=%{text}<br>horas_max=%{customdata[0]}<extra></extra>",
         "hovertext": [
          "Eólica"
         ],
         "legendgroup": "Eólica",
         "marker": {
          "color": "#09ab3b",
          "pattern": {
           "shape": ""
          }
         },
         "name": "Eólica",
         "offsetgroup": "Eólica",
         "orientation": "h",
         "showlegend": true,
         "text": [
          0.882
         ],
         "textposition": "inside",
         "texttemplate": "%{text:.1%}",
         "type": "bar",
         "x": [
          0.882
         ],
         "xaxis": "x",
         "y": [
          "Eólica"
         ],
         "yaxis": "y"
        },
        {
         "alignmentgroup": "True",
         "customdata": [
          [
           1671
          ]
         ],
         "hovertemplate": "<b>%{hovertext}</b><br><br>FC_rel=%{text}<br>horas_max=%{customdata[0]}<extra></extra>",
         "hovertext": [
          "Turbinación bombeo"
         ],
         "legendgroup": "Turbinación bombeo",
         "marker": {
          "color": "#004280",
          "pattern": {
           "shape": ""
          }
         },
         "name": "Turbinación bombeo",
         "offsetgroup": "Turbinación bombeo",
         "orientation": "h",
         "showlegend": true,
         "text": [
          0.867
         ],
         "textposition": "inside",
         "texttemplate": "%{text:.1%}",
         "type": "bar",
         "x": [
          0.867
         ],
         "xaxis": "x",
         "y": [
          "Turbinación bombeo"
         ],
         "yaxis": "y"
        },
        {
         "alignmentgroup": "True",
         "customdata": [
          [
           7320
          ]
         ],
         "hovertemplate": "<b>%{hovertext}</b><br><br>FC_rel=%{text}<br>horas_max=%{customdata[0]}<extra></extra>",
         "hovertext": [
          "Nuclear"
         ],
         "legendgroup": "Nuclear",
         "marker": {
          "color": "#ff2b2b",
          "pattern": {
           "shape": ""
          }
         },
         "name": "Nuclear",
         "offsetgroup": "Nuclear",
         "orientation": "h",
         "showlegend": true,
         "text": [
          0.849
         ],
         "textposition": "inside",
         "texttemplate": "%{text:.1%}",
         "type": "bar",
         "x": [
          0.849
         ],
         "xaxis": "x",
         "y": [
          "Nuclear"
         ],
         "yaxis": "y"
        },
        {
         "alignmentgroup": "True",
         "customdata": [
          [
           1671
          ]
         ],
         "hovertemplate": "<b>%{hovertext}</b><br><br>FC_rel=%{text}<br>horas_max=%{customdata[0]}<extra></extra>",
         "hovertext": [
          "Solar fotovoltaica"
         ],
         "legendgroup": "Solar fotovoltaica",
         "marker": {
          "color": "#ff8700",
          "pattern": {
           "shape": ""
          }
         },
         "name": "Solar fotovoltaica",
         "offsetgroup": "Solar fotovoltaica",
         "orientation": "h",
         "showlegend": true,
         "text": [
          0.839
         ],
         "textposition": "inside",
         "texttemplate": "%{text:.1%}",
         "type": "bar",
         "x": [
          0.839
         ],
         "xaxis": "x",
         "y": [
          "Solar fotovoltaica"
         ],
         "yaxis": "y"
        },
        {
         "alignmentgroup": "True",
         "customdata": [
          [
           3342
          ]
         ],
         "hovertemplate": "<b>%{hovertext}</b><br><br>FC_rel=%{text}<br>horas_max=%{customdata[0]}<extra></extra>",
         "hovertext": [
          "Hidráulica"
         ],
         "legendgroup": "Hidráulica",
         "marker": {
          "color": "#4be4ff",
          "pattern": {
           "shape": ""
          }
         },
         "name": "Hidráulica",
         "offsetgroup": "Hidráulica",
         "orientation": "h",
         "showlegend": true,
         "text": [
          0.512
         ],
         "textposition": "inside",
         "texttemplate": "%{text:.1%}",
         "type": "bar",
         "x": [
          0.512
         ],
         "xaxis": "x",
         "y": [
          "Hidráulica"
         ],
         "yaxis": "y"
        },
        {
         "alignmentgroup": "True",
         "customdata": [
          [
           5849
          ]
         ],
         "hovertemplate": "<b>%{hovertext}</b><br><br>FC_rel=%{text}<br>horas_max=%{customdata[0]}<extra></extra>",
         "hovertext": [
          "Cogeneración"
         ],
         "legendgroup": "Cogeneración",
         "marker": {
          "color": "#6d3fc0",
          "pattern": {
           "shape": ""
          }
         },
         "name": "Cogeneración",
         "offsetgroup": "Cogeneración",
         "orientation": "h",
         "showlegend": true,
         "text": [
          0.406
         ],
         "textposition": "inside",
         "texttemplate": "%{text:.1%}",
         "type": "bar",
         "x": [
          0.406
         ],
         "xaxis": "x",
         "y": [
          "Cogeneración"
         ],
         "yaxis": "y"
        },
        {
         "alignmentgroup": "True",
         "customdata": [
          [
           5013
          ]
         ],
         "hovertemplate": "<b>%{hovertext}</b><br><br>FC_rel=%{text}<br>horas_max=%{customdata[0]}<extra></extra>",
         "hovertext": [
          "Ciclo combinado"
         ],
         "legendgroup": "Ciclo combinado",
         "marker": {
          "color": "#555867",
          "pattern": {
           "shape": ""
          }
         },
         "name": "Ciclo combinado",
         "offsetgroup": "Ciclo combinado",
         "orientation": "h",
         "showlegend": true,
         "text": [
          0.197
         ],
         "textposition": "inside",
         "texttemplate": "%{text:.1%}",
         "type": "bar",
         "x": [
          0.197
         ],
         "xaxis": "x",
         "y": [
          "Ciclo combinado"
         ],
         "yaxis": "y"
        }
       ],
       "layout": {
        "bargap": 0.4,
        "barmode": "relative",
        "legend": {
         "title": {
          "text": "tecnologia"
         },
         "tracegroupgap": 0
        },
        "margin": {
         "t": 60
        },
        "template": {
         "data": {
          "bar": [
           {
            "error_x": {
             "color": "#2a3f5f"
            },
            "error_y": {
             "color": "#2a3f5f"
            },
            "marker": {
             "line": {
              "color": "#E5ECF6",
              "width": 0.5
             },
             "pattern": {
              "fillmode": "overlay",
              "size": 10,
              "solidity": 0.2
             }
            },
            "type": "bar"
           }
          ],
          "barpolar": [
           {
            "marker": {
             "line": {
              "color": "#E5ECF6",
              "width": 0.5
             },
             "pattern": {
              "fillmode": "overlay",
              "size": 10,
              "solidity": 0.2
             }
            },
            "type": "barpolar"
           }
          ],
          "carpet": [
           {
            "aaxis": {
             "endlinecolor": "#2a3f5f",
             "gridcolor": "white",
             "linecolor": "white",
             "minorgridcolor": "white",
             "startlinecolor": "#2a3f5f"
            },
            "baxis": {
             "endlinecolor": "#2a3f5f",
             "gridcolor": "white",
             "linecolor": "white",
             "minorgridcolor": "white",
             "startlinecolor": "#2a3f5f"
            },
            "type": "carpet"
           }
          ],
          "choropleth": [
           {
            "colorbar": {
             "outlinewidth": 0,
             "ticks": ""
            },
            "type": "choropleth"
           }
          ],
          "contour": [
           {
            "colorbar": {
             "outlinewidth": 0,
             "ticks": ""
            },
            "colorscale": [
             [
              0,
              "#0d0887"
             ],
             [
              0.1111111111111111,
              "#46039f"
             ],
             [
              0.2222222222222222,
              "#7201a8"
             ],
             [
              0.3333333333333333,
              "#9c179e"
             ],
             [
              0.4444444444444444,
              "#bd3786"
             ],
             [
              0.5555555555555556,
              "#d8576b"
             ],
             [
              0.6666666666666666,
              "#ed7953"
             ],
             [
              0.7777777777777778,
              "#fb9f3a"
             ],
             [
              0.8888888888888888,
              "#fdca26"
             ],
             [
              1,
              "#f0f921"
             ]
            ],
            "type": "contour"
           }
          ],
          "contourcarpet": [
           {
            "colorbar": {
             "outlinewidth": 0,
             "ticks": ""
            },
            "type": "contourcarpet"
           }
          ],
          "heatmap": [
           {
            "colorbar": {
             "outlinewidth": 0,
             "ticks": ""
            },
            "colorscale": [
             [
              0,
              "#0d0887"
             ],
             [
              0.1111111111111111,
              "#46039f"
             ],
             [
              0.2222222222222222,
              "#7201a8"
             ],
             [
              0.3333333333333333,
              "#9c179e"
             ],
             [
              0.4444444444444444,
              "#bd3786"
             ],
             [
              0.5555555555555556,
              "#d8576b"
             ],
             [
              0.6666666666666666,
              "#ed7953"
             ],
             [
              0.7777777777777778,
              "#fb9f3a"
             ],
             [
              0.8888888888888888,
              "#fdca26"
             ],
             [
              1,
              "#f0f921"
             ]
            ],
            "type": "heatmap"
           }
          ],
          "heatmapgl": [
           {
            "colorbar": {
             "outlinewidth": 0,
             "ticks": ""
            },
            "colorscale": [
             [
              0,
              "#0d0887"
             ],
             [
              0.1111111111111111,
              "#46039f"
             ],
             [
              0.2222222222222222,
              "#7201a8"
             ],
             [
              0.3333333333333333,
              "#9c179e"
             ],
             [
              0.4444444444444444,
              "#bd3786"
             ],
             [
              0.5555555555555556,
              "#d8576b"
             ],
             [
              0.6666666666666666,
              "#ed7953"
             ],
             [
              0.7777777777777778,
              "#fb9f3a"
             ],
             [
              0.8888888888888888,
              "#fdca26"
             ],
             [
              1,
              "#f0f921"
             ]
            ],
            "type": "heatmapgl"
           }
          ],
          "histogram": [
           {
            "marker": {
             "pattern": {
              "fillmode": "overlay",
              "size": 10,
              "solidity": 0.2
             }
            },
            "type": "histogram"
           }
          ],
          "histogram2d": [
           {
            "colorbar": {
             "outlinewidth": 0,
             "ticks": ""
            },
            "colorscale": [
             [
              0,
              "#0d0887"
             ],
             [
              0.1111111111111111,
              "#46039f"
             ],
             [
              0.2222222222222222,
              "#7201a8"
             ],
             [
              0.3333333333333333,
              "#9c179e"
             ],
             [
              0.4444444444444444,
              "#bd3786"
             ],
             [
              0.5555555555555556,
              "#d8576b"
             ],
             [
              0.6666666666666666,
              "#ed7953"
             ],
             [
              0.7777777777777778,
              "#fb9f3a"
             ],
             [
              0.8888888888888888,
              "#fdca26"
             ],
             [
              1,
              "#f0f921"
             ]
            ],
            "type": "histogram2d"
           }
          ],
          "histogram2dcontour": [
           {
            "colorbar": {
             "outlinewidth": 0,
             "ticks": ""
            },
            "colorscale": [
             [
              0,
              "#0d0887"
             ],
             [
              0.1111111111111111,
              "#46039f"
             ],
             [
              0.2222222222222222,
              "#7201a8"
             ],
             [
              0.3333333333333333,
              "#9c179e"
             ],
             [
              0.4444444444444444,
              "#bd3786"
             ],
             [
              0.5555555555555556,
              "#d8576b"
             ],
             [
              0.6666666666666666,
              "#ed7953"
             ],
             [
              0.7777777777777778,
              "#fb9f3a"
             ],
             [
              0.8888888888888888,
              "#fdca26"
             ],
             [
              1,
              "#f0f921"
             ]
            ],
            "type": "histogram2dcontour"
           }
          ],
          "mesh3d": [
           {
            "colorbar": {
             "outlinewidth": 0,
             "ticks": ""
            },
            "type": "mesh3d"
           }
          ],
          "parcoords": [
           {
            "line": {
             "colorbar": {
              "outlinewidth": 0,
              "ticks": ""
             }
            },
            "type": "parcoords"
           }
          ],
          "pie": [
           {
            "automargin": true,
            "type": "pie"
           }
          ],
          "scatter": [
           {
            "fillpattern": {
             "fillmode": "overlay",
             "size": 10,
             "solidity": 0.2
            },
            "type": "scatter"
           }
          ],
          "scatter3d": [
           {
            "line": {
             "colorbar": {
              "outlinewidth": 0,
              "ticks": ""
             }
            },
            "marker": {
             "colorbar": {
              "outlinewidth": 0,
              "ticks": ""
             }
            },
            "type": "scatter3d"
           }
          ],
          "scattercarpet": [
           {
            "marker": {
             "colorbar": {
              "outlinewidth": 0,
              "ticks": ""
             }
            },
            "type": "scattercarpet"
           }
          ],
          "scattergeo": [
           {
            "marker": {
             "colorbar": {
              "outlinewidth": 0,
              "ticks": ""
             }
            },
            "type": "scattergeo"
           }
          ],
          "scattergl": [
           {
            "marker": {
             "colorbar": {
              "outlinewidth": 0,
              "ticks": ""
             }
            },
            "type": "scattergl"
           }
          ],
          "scattermapbox": [
           {
            "marker": {
             "colorbar": {
              "outlinewidth": 0,
              "ticks": ""
             }
            },
            "type": "scattermapbox"
           }
          ],
          "scatterpolar": [
           {
            "marker": {
             "colorbar": {
              "outlinewidth": 0,
              "ticks": ""
             }
            },
            "type": "scatterpolar"
           }
          ],
          "scatterpolargl": [
           {
            "marker": {
             "colorbar": {
              "outlinewidth": 0,
              "ticks": ""
             }
            },
            "type": "scatterpolargl"
           }
          ],
          "scatterternary": [
           {
            "marker": {
             "colorbar": {
              "outlinewidth": 0,
              "ticks": ""
             }
            },
            "type": "scatterternary"
           }
          ],
          "surface": [
           {
            "colorbar": {
             "outlinewidth": 0,
             "ticks": ""
            },
            "colorscale": [
             [
              0,
              "#0d0887"
             ],
             [
              0.1111111111111111,
              "#46039f"
             ],
             [
              0.2222222222222222,
              "#7201a8"
             ],
             [
              0.3333333333333333,
              "#9c179e"
             ],
             [
              0.4444444444444444,
              "#bd3786"
             ],
             [
              0.5555555555555556,
              "#d8576b"
             ],
             [
              0.6666666666666666,
              "#ed7953"
             ],
             [
              0.7777777777777778,
              "#fb9f3a"
             ],
             [
              0.8888888888888888,
              "#fdca26"
             ],
             [
              1,
              "#f0f921"
             ]
            ],
            "type": "surface"
           }
          ],
          "table": [
           {
            "cells": {
             "fill": {
              "color": "#EBF0F8"
             },
             "line": {
              "color": "white"
             }
            },
            "header": {
             "fill": {
              "color": "#C8D4E3"
             },
             "line": {
              "color": "white"
             }
            },
            "type": "table"
           }
          ]
         },
         "layout": {
          "annotationdefaults": {
           "arrowcolor": "#2a3f5f",
           "arrowhead": 0,
           "arrowwidth": 1
          },
          "autotypenumbers": "strict",
          "coloraxis": {
           "colorbar": {
            "outlinewidth": 0,
            "ticks": ""
           }
          },
          "colorscale": {
           "diverging": [
            [
             0,
             "#8e0152"
            ],
            [
             0.1,
             "#c51b7d"
            ],
            [
             0.2,
             "#de77ae"
            ],
            [
             0.3,
             "#f1b6da"
            ],
            [
             0.4,
             "#fde0ef"
            ],
            [
             0.5,
             "#f7f7f7"
            ],
            [
             0.6,
             "#e6f5d0"
            ],
            [
             0.7,
             "#b8e186"
            ],
            [
             0.8,
             "#7fbc41"
            ],
            [
             0.9,
             "#4d9221"
            ],
            [
             1,
             "#276419"
            ]
           ],
           "sequential": [
            [
             0,
             "#0d0887"
            ],
            [
             0.1111111111111111,
             "#46039f"
            ],
            [
             0.2222222222222222,
             "#7201a8"
            ],
            [
             0.3333333333333333,
             "#9c179e"
            ],
            [
             0.4444444444444444,
             "#bd3786"
            ],
            [
             0.5555555555555556,
             "#d8576b"
            ],
            [
             0.6666666666666666,
             "#ed7953"
            ],
            [
             0.7777777777777778,
             "#fb9f3a"
            ],
            [
             0.8888888888888888,
             "#fdca26"
            ],
            [
             1,
             "#f0f921"
            ]
           ],
           "sequentialminus": [
            [
             0,
             "#0d0887"
            ],
            [
             0.1111111111111111,
             "#46039f"
            ],
            [
             0.2222222222222222,
             "#7201a8"
            ],
            [
             0.3333333333333333,
             "#9c179e"
            ],
            [
             0.4444444444444444,
             "#bd3786"
            ],
            [
             0.5555555555555556,
             "#d8576b"
            ],
            [
             0.6666666666666666,
             "#ed7953"
            ],
            [
             0.7777777777777778,
             "#fb9f3a"
            ],
            [
             0.8888888888888888,
             "#fdca26"
            ],
            [
             1,
             "#f0f921"
            ]
           ]
          },
          "colorway": [
           "#636efa",
           "#EF553B",
           "#00cc96",
           "#ab63fa",
           "#FFA15A",
           "#19d3f3",
           "#FF6692",
           "#B6E880",
           "#FF97FF",
           "#FECB52"
          ],
          "font": {
           "color": "#2a3f5f"
          },
          "geo": {
           "bgcolor": "white",
           "lakecolor": "white",
           "landcolor": "#E5ECF6",
           "showlakes": true,
           "showland": true,
           "subunitcolor": "white"
          },
          "hoverlabel": {
           "align": "left"
          },
          "hovermode": "closest",
          "mapbox": {
           "style": "light"
          },
          "paper_bgcolor": "white",
          "plot_bgcolor": "#E5ECF6",
          "polar": {
           "angularaxis": {
            "gridcolor": "white",
            "linecolor": "white",
            "ticks": ""
           },
           "bgcolor": "#E5ECF6",
           "radialaxis": {
            "gridcolor": "white",
            "linecolor": "white",
            "ticks": ""
           }
          },
          "scene": {
           "xaxis": {
            "backgroundcolor": "#E5ECF6",
            "gridcolor": "white",
            "gridwidth": 2,
            "linecolor": "white",
            "showbackground": true,
            "ticks": "",
            "zerolinecolor": "white"
           },
           "yaxis": {
            "backgroundcolor": "#E5ECF6",
            "gridcolor": "white",
            "gridwidth": 2,
            "linecolor": "white",
            "showbackground": true,
            "ticks": "",
            "zerolinecolor": "white"
           },
           "zaxis": {
            "backgroundcolor": "#E5ECF6",
            "gridcolor": "white",
            "gridwidth": 2,
            "linecolor": "white",
            "showbackground": true,
            "ticks": "",
            "zerolinecolor": "white"
           }
          },
          "shapedefaults": {
           "line": {
            "color": "#2a3f5f"
           }
          },
          "ternary": {
           "aaxis": {
            "gridcolor": "white",
            "linecolor": "white",
            "ticks": ""
           },
           "baxis": {
            "gridcolor": "white",
            "linecolor": "white",
            "ticks": ""
           },
           "bgcolor": "#E5ECF6",
           "caxis": {
            "gridcolor": "white",
            "linecolor": "white",
            "ticks": ""
           }
          },
          "title": {
           "x": 0.05
          },
          "xaxis": {
           "automargin": true,
           "gridcolor": "white",
           "linecolor": "white",
           "ticks": "",
           "title": {
            "standoff": 15
           },
           "zerolinecolor": "white",
           "zerolinewidth": 2
          },
          "yaxis": {
           "automargin": true,
           "gridcolor": "white",
           "linecolor": "white",
           "ticks": "",
           "title": {
            "standoff": 15
           },
           "zerolinecolor": "white",
           "zerolinewidth": 2
          }
         }
        },
        "title": {
         "text": "Factor de carga según horas máximas (%)",
         "x": 0.5,
         "xanchor": "center"
        },
        "width": 1300,
        "xaxis": {
         "anchor": "y",
         "domain": [
          0,
          1
         ],
         "tickformat": ".0%",
         "title": {
          "text": "FC_rel"
         }
        },
        "yaxis": {
         "anchor": "x",
         "categoryarray": [
          "Ciclo combinado",
          "Cogeneración",
          "Hidráulica",
          "Solar fotovoltaica",
          "Nuclear",
          "Turbinación bombeo",
          "Eólica"
         ],
         "categoryorder": "array",
         "domain": [
          0,
          1
         ],
         "title": {
          "text": "tecnologia"
         }
        }
       }
      }
     },
     "metadata": {},
     "output_type": "display_data"
    }
   ],
   "source": [
    "\n",
    "graf_FC_rel=px.bar(df_out_ratio_select_fcrel,x='FC_rel',y='tecnologia',\n",
    "                    orientation='h',\n",
    "                    color=df_out_ratio_select_fcrel['tecnologia'], \n",
    "                    hover_name=df_out_ratio_select_fcrel['tecnologia'],\n",
    "                    color_discrete_map=colores_tecnologia,\n",
    "                    width=1300,\n",
    "                    text_auto=True,\n",
    "                    hover_data={\n",
    "                        'tecnologia':False,\n",
    "                        'horas_max':True\n",
    "                    },\n",
    "                    text='FC_rel'\n",
    "                    \n",
    "                    )\n",
    "graf_FC_rel.update_traces(\n",
    "    texttemplate='%{text:.1%}',\n",
    "    textposition='inside',  # Coloca el texto en el centro de las burbujas\n",
    "    #textfont=dict(size=12, color=\"black\"),  # Tamaño y color del texto\n",
    "    )\n",
    "graf_FC_rel.update_layout(\n",
    "    title=dict(\n",
    "        text='Factor de carga según horas máximas (%)',\n",
    "        x=.5,\n",
    "        xanchor='center',\n",
    "    ),\n",
    "    xaxis_tickformat='.0%',\n",
    "    bargap=.4\n",
    ")"
   ]
  },
  {
   "cell_type": "code",
   "execution_count": null,
   "metadata": {},
   "outputs": [
    {
     "data": {
      "application/vnd.plotly.v1+json": {
       "config": {
        "plotlyServerURL": "https://plot.ly"
       },
       "data": [
        {
         "alignmentgroup": "True",
         "customdata": [
          [
           50.7,
           31.6
          ]
         ],
         "hovertemplate": "<b>%{hovertext}</b><br><br>%_mix=%{text}<br>gen_TWh=%{customdata[0]}<br>pot_GW=%{customdata[1]}<extra></extra>",
         "hovertext": [
          "Eólica"
         ],
         "legendgroup": "Eólica",
         "marker": {
          "color": "#09ab3b",
          "pattern": {
           "shape": ""
          }
         },
         "name": "Eólica",
         "offsetgroup": "Eólica",
         "orientation": "h",
         "showlegend": true,
         "text": [
          0.227
         ],
         "textposition": "inside",
         "texttemplate": "%{text:.1%}",
         "type": "bar",
         "x": [
          0.227
         ],
         "xaxis": "x",
         "y": [
          "Eólica"
         ],
         "yaxis": "y"
        },
        {
         "alignmentgroup": "True",
         "customdata": [
          [
           44.2,
           7.1
          ]
         ],
         "hovertemplate": "<b>%{hovertext}</b><br><br>%_mix=%{text}<br>gen_TWh=%{customdata[0]}<br>pot_GW=%{customdata[1]}<extra></extra>",
         "hovertext": [
          "Nuclear"
         ],
         "legendgroup": "Nuclear",
         "marker": {
          "color": "#ff2b2b",
          "pattern": {
           "shape": ""
          }
         },
         "name": "Nuclear",
         "offsetgroup": "Nuclear",
         "orientation": "h",
         "showlegend": true,
         "text": [
          0.198
         ],
         "textposition": "inside",
         "texttemplate": "%{text:.1%}",
         "type": "bar",
         "x": [
          0.198
         ],
         "xaxis": "x",
         "y": [
          "Nuclear"
         ],
         "yaxis": "y"
        },
        {
         "alignmentgroup": "True",
         "customdata": [
          [
           39.7,
           29.6
          ]
         ],
         "hovertemplate": "<b>%{hovertext}</b><br><br>%_mix=%{text}<br>gen_TWh=%{customdata[0]}<br>pot_GW=%{customdata[1]}<extra></extra>",
         "hovertext": [
          "Solar fotovoltaica"
         ],
         "legendgroup": "Solar fotovoltaica",
         "marker": {
          "color": "#ff8700",
          "pattern": {
           "shape": ""
          }
         },
         "name": "Solar fotovoltaica",
         "offsetgroup": "Solar fotovoltaica",
         "orientation": "h",
         "showlegend": true,
         "text": [
          0.178
         ],
         "textposition": "inside",
         "texttemplate": "%{text:.1%}",
         "type": "bar",
         "x": [
          0.178
         ],
         "xaxis": "x",
         "y": [
          "Solar fotovoltaica"
         ],
         "yaxis": "y"
        },
        {
         "alignmentgroup": "True",
         "customdata": [
          [
           29.3,
           17.1
          ]
         ],
         "hovertemplate": "<b>%{hovertext}</b><br><br>%_mix=%{text}<br>gen_TWh=%{customdata[0]}<br>pot_GW=%{customdata[1]}<extra></extra>",
         "hovertext": [
          "Hidráulica"
         ],
         "legendgroup": "Hidráulica",
         "marker": {
          "color": "#4be4ff",
          "pattern": {
           "shape": ""
          }
         },
         "name": "Hidráulica",
         "offsetgroup": "Hidráulica",
         "orientation": "h",
         "showlegend": true,
         "text": [
          0.131
         ],
         "textposition": "inside",
         "texttemplate": "%{text:.1%}",
         "type": "bar",
         "x": [
          0.131
         ],
         "xaxis": "x",
         "y": [
          "Hidráulica"
         ],
         "yaxis": "y"
        },
        {
         "alignmentgroup": "True",
         "customdata": [
          [
           26.1,
           26.3
          ]
         ],
         "hovertemplate": "<b>%{hovertext}</b><br><br>%_mix=%{text}<br>gen_TWh=%{customdata[0]}<br>pot_GW=%{customdata[1]}<extra></extra>",
         "hovertext": [
          "Ciclo combinado"
         ],
         "legendgroup": "Ciclo combinado",
         "marker": {
          "color": "#555867",
          "pattern": {
           "shape": ""
          }
         },
         "name": "Ciclo combinado",
         "offsetgroup": "Ciclo combinado",
         "orientation": "h",
         "showlegend": true,
         "text": [
          0.117
         ],
         "textposition": "inside",
         "texttemplate": "%{text:.1%}",
         "type": "bar",
         "x": [
          0.117
         ],
         "xaxis": "x",
         "y": [
          "Ciclo combinado"
         ],
         "yaxis": "y"
        },
        {
         "alignmentgroup": "True",
         "customdata": [
          [
           15.2,
           8.5
          ]
         ],
         "hovertemplate": "<b>%{hovertext}</b><br><br>%_mix=%{text}<br>gen_TWh=%{customdata[0]}<br>pot_GW=%{customdata[1]}<extra></extra>",
         "hovertext": [
          "Resto"
         ],
         "legendgroup": "Resto",
         "marker": {
          "color": "#B6E880",
          "pattern": {
           "shape": ""
          }
         },
         "name": "Resto",
         "offsetgroup": "Resto",
         "orientation": "h",
         "showlegend": true,
         "text": [
          0.068
         ],
         "textposition": "inside",
         "texttemplate": "%{text:.1%}",
         "type": "bar",
         "x": [
          0.068
         ],
         "xaxis": "x",
         "y": [
          "Resto"
         ],
         "yaxis": "y"
        },
        {
         "alignmentgroup": "True",
         "customdata": [
          [
           13.3,
           5.6
          ]
         ],
         "hovertemplate": "<b>%{hovertext}</b><br><br>%_mix=%{text}<br>gen_TWh=%{customdata[0]}<br>pot_GW=%{customdata[1]}<extra></extra>",
         "hovertext": [
          "Cogeneración"
         ],
         "legendgroup": "Cogeneración",
         "marker": {
          "color": "#6d3fc0",
          "pattern": {
           "shape": ""
          }
         },
         "name": "Cogeneración",
         "offsetgroup": "Cogeneración",
         "orientation": "h",
         "showlegend": true,
         "text": [
          0.06
         ],
         "textposition": "inside",
         "texttemplate": "%{text:.1%}",
         "type": "bar",
         "x": [
          0.06
         ],
         "xaxis": "x",
         "y": [
          "Cogeneración"
         ],
         "yaxis": "y"
        },
        {
         "alignmentgroup": "True",
         "customdata": [
          [
           4.8,
           3.3
          ]
         ],
         "hovertemplate": "<b>%{hovertext}</b><br><br>%_mix=%{text}<br>gen_TWh=%{customdata[0]}<br>pot_GW=%{customdata[1]}<extra></extra>",
         "hovertext": [
          "Turbinación bombeo"
         ],
         "legendgroup": "Turbinación bombeo",
         "marker": {
          "color": "#004280",
          "pattern": {
           "shape": ""
          }
         },
         "name": "Turbinación bombeo",
         "offsetgroup": "Turbinación bombeo",
         "orientation": "h",
         "showlegend": true,
         "text": [
          0.021
         ],
         "textposition": "inside",
         "texttemplate": "%{text:.1%}",
         "type": "bar",
         "x": [
          0.021
         ],
         "xaxis": "x",
         "y": [
          "Turbinación bombeo"
         ],
         "yaxis": "y"
        }
       ],
       "layout": {
        "bargap": 0.4,
        "barmode": "relative",
        "legend": {
         "title": {
          "text": "tecnologia"
         },
         "tracegroupgap": 0
        },
        "margin": {
         "t": 60
        },
        "template": {
         "data": {
          "bar": [
           {
            "error_x": {
             "color": "#2a3f5f"
            },
            "error_y": {
             "color": "#2a3f5f"
            },
            "marker": {
             "line": {
              "color": "#E5ECF6",
              "width": 0.5
             },
             "pattern": {
              "fillmode": "overlay",
              "size": 10,
              "solidity": 0.2
             }
            },
            "type": "bar"
           }
          ],
          "barpolar": [
           {
            "marker": {
             "line": {
              "color": "#E5ECF6",
              "width": 0.5
             },
             "pattern": {
              "fillmode": "overlay",
              "size": 10,
              "solidity": 0.2
             }
            },
            "type": "barpolar"
           }
          ],
          "carpet": [
           {
            "aaxis": {
             "endlinecolor": "#2a3f5f",
             "gridcolor": "white",
             "linecolor": "white",
             "minorgridcolor": "white",
             "startlinecolor": "#2a3f5f"
            },
            "baxis": {
             "endlinecolor": "#2a3f5f",
             "gridcolor": "white",
             "linecolor": "white",
             "minorgridcolor": "white",
             "startlinecolor": "#2a3f5f"
            },
            "type": "carpet"
           }
          ],
          "choropleth": [
           {
            "colorbar": {
             "outlinewidth": 0,
             "ticks": ""
            },
            "type": "choropleth"
           }
          ],
          "contour": [
           {
            "colorbar": {
             "outlinewidth": 0,
             "ticks": ""
            },
            "colorscale": [
             [
              0,
              "#0d0887"
             ],
             [
              0.1111111111111111,
              "#46039f"
             ],
             [
              0.2222222222222222,
              "#7201a8"
             ],
             [
              0.3333333333333333,
              "#9c179e"
             ],
             [
              0.4444444444444444,
              "#bd3786"
             ],
             [
              0.5555555555555556,
              "#d8576b"
             ],
             [
              0.6666666666666666,
              "#ed7953"
             ],
             [
              0.7777777777777778,
              "#fb9f3a"
             ],
             [
              0.8888888888888888,
              "#fdca26"
             ],
             [
              1,
              "#f0f921"
             ]
            ],
            "type": "contour"
           }
          ],
          "contourcarpet": [
           {
            "colorbar": {
             "outlinewidth": 0,
             "ticks": ""
            },
            "type": "contourcarpet"
           }
          ],
          "heatmap": [
           {
            "colorbar": {
             "outlinewidth": 0,
             "ticks": ""
            },
            "colorscale": [
             [
              0,
              "#0d0887"
             ],
             [
              0.1111111111111111,
              "#46039f"
             ],
             [
              0.2222222222222222,
              "#7201a8"
             ],
             [
              0.3333333333333333,
              "#9c179e"
             ],
             [
              0.4444444444444444,
              "#bd3786"
             ],
             [
              0.5555555555555556,
              "#d8576b"
             ],
             [
              0.6666666666666666,
              "#ed7953"
             ],
             [
              0.7777777777777778,
              "#fb9f3a"
             ],
             [
              0.8888888888888888,
              "#fdca26"
             ],
             [
              1,
              "#f0f921"
             ]
            ],
            "type": "heatmap"
           }
          ],
          "heatmapgl": [
           {
            "colorbar": {
             "outlinewidth": 0,
             "ticks": ""
            },
            "colorscale": [
             [
              0,
              "#0d0887"
             ],
             [
              0.1111111111111111,
              "#46039f"
             ],
             [
              0.2222222222222222,
              "#7201a8"
             ],
             [
              0.3333333333333333,
              "#9c179e"
             ],
             [
              0.4444444444444444,
              "#bd3786"
             ],
             [
              0.5555555555555556,
              "#d8576b"
             ],
             [
              0.6666666666666666,
              "#ed7953"
             ],
             [
              0.7777777777777778,
              "#fb9f3a"
             ],
             [
              0.8888888888888888,
              "#fdca26"
             ],
             [
              1,
              "#f0f921"
             ]
            ],
            "type": "heatmapgl"
           }
          ],
          "histogram": [
           {
            "marker": {
             "pattern": {
              "fillmode": "overlay",
              "size": 10,
              "solidity": 0.2
             }
            },
            "type": "histogram"
           }
          ],
          "histogram2d": [
           {
            "colorbar": {
             "outlinewidth": 0,
             "ticks": ""
            },
            "colorscale": [
             [
              0,
              "#0d0887"
             ],
             [
              0.1111111111111111,
              "#46039f"
             ],
             [
              0.2222222222222222,
              "#7201a8"
             ],
             [
              0.3333333333333333,
              "#9c179e"
             ],
             [
              0.4444444444444444,
              "#bd3786"
             ],
             [
              0.5555555555555556,
              "#d8576b"
             ],
             [
              0.6666666666666666,
              "#ed7953"
             ],
             [
              0.7777777777777778,
              "#fb9f3a"
             ],
             [
              0.8888888888888888,
              "#fdca26"
             ],
             [
              1,
              "#f0f921"
             ]
            ],
            "type": "histogram2d"
           }
          ],
          "histogram2dcontour": [
           {
            "colorbar": {
             "outlinewidth": 0,
             "ticks": ""
            },
            "colorscale": [
             [
              0,
              "#0d0887"
             ],
             [
              0.1111111111111111,
              "#46039f"
             ],
             [
              0.2222222222222222,
              "#7201a8"
             ],
             [
              0.3333333333333333,
              "#9c179e"
             ],
             [
              0.4444444444444444,
              "#bd3786"
             ],
             [
              0.5555555555555556,
              "#d8576b"
             ],
             [
              0.6666666666666666,
              "#ed7953"
             ],
             [
              0.7777777777777778,
              "#fb9f3a"
             ],
             [
              0.8888888888888888,
              "#fdca26"
             ],
             [
              1,
              "#f0f921"
             ]
            ],
            "type": "histogram2dcontour"
           }
          ],
          "mesh3d": [
           {
            "colorbar": {
             "outlinewidth": 0,
             "ticks": ""
            },
            "type": "mesh3d"
           }
          ],
          "parcoords": [
           {
            "line": {
             "colorbar": {
              "outlinewidth": 0,
              "ticks": ""
             }
            },
            "type": "parcoords"
           }
          ],
          "pie": [
           {
            "automargin": true,
            "type": "pie"
           }
          ],
          "scatter": [
           {
            "fillpattern": {
             "fillmode": "overlay",
             "size": 10,
             "solidity": 0.2
            },
            "type": "scatter"
           }
          ],
          "scatter3d": [
           {
            "line": {
             "colorbar": {
              "outlinewidth": 0,
              "ticks": ""
             }
            },
            "marker": {
             "colorbar": {
              "outlinewidth": 0,
              "ticks": ""
             }
            },
            "type": "scatter3d"
           }
          ],
          "scattercarpet": [
           {
            "marker": {
             "colorbar": {
              "outlinewidth": 0,
              "ticks": ""
             }
            },
            "type": "scattercarpet"
           }
          ],
          "scattergeo": [
           {
            "marker": {
             "colorbar": {
              "outlinewidth": 0,
              "ticks": ""
             }
            },
            "type": "scattergeo"
           }
          ],
          "scattergl": [
           {
            "marker": {
             "colorbar": {
              "outlinewidth": 0,
              "ticks": ""
             }
            },
            "type": "scattergl"
           }
          ],
          "scattermapbox": [
           {
            "marker": {
             "colorbar": {
              "outlinewidth": 0,
              "ticks": ""
             }
            },
            "type": "scattermapbox"
           }
          ],
          "scatterpolar": [
           {
            "marker": {
             "colorbar": {
              "outlinewidth": 0,
              "ticks": ""
             }
            },
            "type": "scatterpolar"
           }
          ],
          "scatterpolargl": [
           {
            "marker": {
             "colorbar": {
              "outlinewidth": 0,
              "ticks": ""
             }
            },
            "type": "scatterpolargl"
           }
          ],
          "scatterternary": [
           {
            "marker": {
             "colorbar": {
              "outlinewidth": 0,
              "ticks": ""
             }
            },
            "type": "scatterternary"
           }
          ],
          "surface": [
           {
            "colorbar": {
             "outlinewidth": 0,
             "ticks": ""
            },
            "colorscale": [
             [
              0,
              "#0d0887"
             ],
             [
              0.1111111111111111,
              "#46039f"
             ],
             [
              0.2222222222222222,
              "#7201a8"
             ],
             [
              0.3333333333333333,
              "#9c179e"
             ],
             [
              0.4444444444444444,
              "#bd3786"
             ],
             [
              0.5555555555555556,
              "#d8576b"
             ],
             [
              0.6666666666666666,
              "#ed7953"
             ],
             [
              0.7777777777777778,
              "#fb9f3a"
             ],
             [
              0.8888888888888888,
              "#fdca26"
             ],
             [
              1,
              "#f0f921"
             ]
            ],
            "type": "surface"
           }
          ],
          "table": [
           {
            "cells": {
             "fill": {
              "color": "#EBF0F8"
             },
             "line": {
              "color": "white"
             }
            },
            "header": {
             "fill": {
              "color": "#C8D4E3"
             },
             "line": {
              "color": "white"
             }
            },
            "type": "table"
           }
          ]
         },
         "layout": {
          "annotationdefaults": {
           "arrowcolor": "#2a3f5f",
           "arrowhead": 0,
           "arrowwidth": 1
          },
          "autotypenumbers": "strict",
          "coloraxis": {
           "colorbar": {
            "outlinewidth": 0,
            "ticks": ""
           }
          },
          "colorscale": {
           "diverging": [
            [
             0,
             "#8e0152"
            ],
            [
             0.1,
             "#c51b7d"
            ],
            [
             0.2,
             "#de77ae"
            ],
            [
             0.3,
             "#f1b6da"
            ],
            [
             0.4,
             "#fde0ef"
            ],
            [
             0.5,
             "#f7f7f7"
            ],
            [
             0.6,
             "#e6f5d0"
            ],
            [
             0.7,
             "#b8e186"
            ],
            [
             0.8,
             "#7fbc41"
            ],
            [
             0.9,
             "#4d9221"
            ],
            [
             1,
             "#276419"
            ]
           ],
           "sequential": [
            [
             0,
             "#0d0887"
            ],
            [
             0.1111111111111111,
             "#46039f"
            ],
            [
             0.2222222222222222,
             "#7201a8"
            ],
            [
             0.3333333333333333,
             "#9c179e"
            ],
            [
             0.4444444444444444,
             "#bd3786"
            ],
            [
             0.5555555555555556,
             "#d8576b"
            ],
            [
             0.6666666666666666,
             "#ed7953"
            ],
            [
             0.7777777777777778,
             "#fb9f3a"
            ],
            [
             0.8888888888888888,
             "#fdca26"
            ],
            [
             1,
             "#f0f921"
            ]
           ],
           "sequentialminus": [
            [
             0,
             "#0d0887"
            ],
            [
             0.1111111111111111,
             "#46039f"
            ],
            [
             0.2222222222222222,
             "#7201a8"
            ],
            [
             0.3333333333333333,
             "#9c179e"
            ],
            [
             0.4444444444444444,
             "#bd3786"
            ],
            [
             0.5555555555555556,
             "#d8576b"
            ],
            [
             0.6666666666666666,
             "#ed7953"
            ],
            [
             0.7777777777777778,
             "#fb9f3a"
            ],
            [
             0.8888888888888888,
             "#fdca26"
            ],
            [
             1,
             "#f0f921"
            ]
           ]
          },
          "colorway": [
           "#636efa",
           "#EF553B",
           "#00cc96",
           "#ab63fa",
           "#FFA15A",
           "#19d3f3",
           "#FF6692",
           "#B6E880",
           "#FF97FF",
           "#FECB52"
          ],
          "font": {
           "color": "#2a3f5f"
          },
          "geo": {
           "bgcolor": "white",
           "lakecolor": "white",
           "landcolor": "#E5ECF6",
           "showlakes": true,
           "showland": true,
           "subunitcolor": "white"
          },
          "hoverlabel": {
           "align": "left"
          },
          "hovermode": "closest",
          "mapbox": {
           "style": "light"
          },
          "paper_bgcolor": "white",
          "plot_bgcolor": "#E5ECF6",
          "polar": {
           "angularaxis": {
            "gridcolor": "white",
            "linecolor": "white",
            "ticks": ""
           },
           "bgcolor": "#E5ECF6",
           "radialaxis": {
            "gridcolor": "white",
            "linecolor": "white",
            "ticks": ""
           }
          },
          "scene": {
           "xaxis": {
            "backgroundcolor": "#E5ECF6",
            "gridcolor": "white",
            "gridwidth": 2,
            "linecolor": "white",
            "showbackground": true,
            "ticks": "",
            "zerolinecolor": "white"
           },
           "yaxis": {
            "backgroundcolor": "#E5ECF6",
            "gridcolor": "white",
            "gridwidth": 2,
            "linecolor": "white",
            "showbackground": true,
            "ticks": "",
            "zerolinecolor": "white"
           },
           "zaxis": {
            "backgroundcolor": "#E5ECF6",
            "gridcolor": "white",
            "gridwidth": 2,
            "linecolor": "white",
            "showbackground": true,
            "ticks": "",
            "zerolinecolor": "white"
           }
          },
          "shapedefaults": {
           "line": {
            "color": "#2a3f5f"
           }
          },
          "ternary": {
           "aaxis": {
            "gridcolor": "white",
            "linecolor": "white",
            "ticks": ""
           },
           "baxis": {
            "gridcolor": "white",
            "linecolor": "white",
            "ticks": ""
           },
           "bgcolor": "#E5ECF6",
           "caxis": {
            "gridcolor": "white",
            "linecolor": "white",
            "ticks": ""
           }
          },
          "title": {
           "x": 0.05
          },
          "xaxis": {
           "automargin": true,
           "gridcolor": "white",
           "linecolor": "white",
           "ticks": "",
           "title": {
            "standoff": 15
           },
           "zerolinecolor": "white",
           "zerolinewidth": 2
          },
          "yaxis": {
           "automargin": true,
           "gridcolor": "white",
           "linecolor": "white",
           "ticks": "",
           "title": {
            "standoff": 15
           },
           "zerolinecolor": "white",
           "zerolinewidth": 2
          }
         }
        },
        "title": {
         "text": "Aportación al mix de generación (%)",
         "x": 0.5,
         "xanchor": "center"
        },
        "width": 1300,
        "xaxis": {
         "anchor": "y",
         "domain": [
          0,
          1
         ],
         "tickformat": ".0%",
         "title": {
          "text": "%_mix"
         }
        },
        "yaxis": {
         "anchor": "x",
         "categoryarray": [
          "Turbinación bombeo",
          "Cogeneración",
          "Resto",
          "Ciclo combinado",
          "Hidráulica",
          "Solar fotovoltaica",
          "Nuclear",
          "Eólica"
         ],
         "categoryorder": "array",
         "domain": [
          0,
          1
         ],
         "title": {
          "text": "tecnologia"
         }
        }
       }
      }
     },
     "metadata": {},
     "output_type": "display_data"
    }
   ],
   "source": [
    "graf_FC_mix=px.bar(df_out_ratio_select_mix,x='%_mix',y='tecnologia',\n",
    "                    orientation='h',\n",
    "                    color=df_out_ratio_select_mix['tecnologia'], \n",
    "                    hover_name=df_out_ratio_select_mix['tecnologia'],\n",
    "                    color_discrete_map=colores_tecnologia,\n",
    "                    width=1300,\n",
    "                    text_auto=True,\n",
    "                    hover_data={\n",
    "                        'tecnologia':False,\n",
    "                        'gen_TWh':True,\n",
    "                        'pot_GW':True\n",
    "                    },\n",
    "                    text='%_mix'\n",
    "                    \n",
    "                    )\n",
    "graf_FC_mix.update_traces(\n",
    "    #formateamos el texto de las barras\n",
    "    texttemplate='%{text:.1%}',\n",
    "    textposition='inside',  # Coloca el texto en el centro de las burbujas\n",
    "    #textfont=dict(size=12, color=\"black\"),  # Tamaño y color del texto\n",
    "    )\n",
    "graf_FC_mix.update_layout(\n",
    "    title=dict(\n",
    "        text='Aportación al mix de generación (%)',\n",
    "        x=.5,\n",
    "        xanchor='center',\n",
    "        \n",
    "    ),\n",
    "    xaxis_tickformat='.0%',\n",
    "    bargap=.4\n",
    ")"
   ]
  },
  {
   "cell_type": "code",
   "execution_count": 60,
   "metadata": {},
   "outputs": [
    {
     "data": {
      "text/html": [
       "<div>\n",
       "<style scoped>\n",
       "    .dataframe tbody tr th:only-of-type {\n",
       "        vertical-align: middle;\n",
       "    }\n",
       "\n",
       "    .dataframe tbody tr th {\n",
       "        vertical-align: top;\n",
       "    }\n",
       "\n",
       "    .dataframe thead th {\n",
       "        text-align: right;\n",
       "    }\n",
       "</style>\n",
       "<table border=\"1\" class=\"dataframe\">\n",
       "  <thead>\n",
       "    <tr style=\"text-align: right;\">\n",
       "      <th></th>\n",
       "      <th>tecnologia</th>\n",
       "      <th>gen_TWh</th>\n",
       "      <th>pot_GW</th>\n",
       "      <th>horas_gen</th>\n",
       "      <th>FC</th>\n",
       "      <th>%_mix</th>\n",
       "      <th>horas_max</th>\n",
       "      <th>FC_rel</th>\n",
       "    </tr>\n",
       "  </thead>\n",
       "  <tbody>\n",
       "    <tr>\n",
       "      <th>0</th>\n",
       "      <td>Eólica</td>\n",
       "      <td>50.7</td>\n",
       "      <td>31.6</td>\n",
       "      <td>1622</td>\n",
       "      <td>0.222</td>\n",
       "      <td>0.227</td>\n",
       "      <td>1838</td>\n",
       "      <td>0.882</td>\n",
       "    </tr>\n",
       "    <tr>\n",
       "      <th>1</th>\n",
       "      <td>Nuclear</td>\n",
       "      <td>44.2</td>\n",
       "      <td>7.1</td>\n",
       "      <td>6212</td>\n",
       "      <td>0.849</td>\n",
       "      <td>0.198</td>\n",
       "      <td>7320</td>\n",
       "      <td>0.849</td>\n",
       "    </tr>\n",
       "    <tr>\n",
       "      <th>2</th>\n",
       "      <td>Solar fotovoltaica</td>\n",
       "      <td>39.7</td>\n",
       "      <td>29.6</td>\n",
       "      <td>1402</td>\n",
       "      <td>0.192</td>\n",
       "      <td>0.178</td>\n",
       "      <td>1671</td>\n",
       "      <td>0.839</td>\n",
       "    </tr>\n",
       "    <tr>\n",
       "      <th>3</th>\n",
       "      <td>Hidráulica</td>\n",
       "      <td>29.3</td>\n",
       "      <td>17.1</td>\n",
       "      <td>1710</td>\n",
       "      <td>0.234</td>\n",
       "      <td>0.131</td>\n",
       "      <td>3342</td>\n",
       "      <td>0.512</td>\n",
       "    </tr>\n",
       "    <tr>\n",
       "      <th>4</th>\n",
       "      <td>Ciclo combinado</td>\n",
       "      <td>26.1</td>\n",
       "      <td>26.3</td>\n",
       "      <td>989</td>\n",
       "      <td>0.135</td>\n",
       "      <td>0.117</td>\n",
       "      <td>5013</td>\n",
       "      <td>0.197</td>\n",
       "    </tr>\n",
       "    <tr>\n",
       "      <th>7</th>\n",
       "      <td>Resto</td>\n",
       "      <td>15.2</td>\n",
       "      <td>8.5</td>\n",
       "      <td>None</td>\n",
       "      <td>None</td>\n",
       "      <td>0.068</td>\n",
       "      <td>None</td>\n",
       "      <td>None</td>\n",
       "    </tr>\n",
       "    <tr>\n",
       "      <th>5</th>\n",
       "      <td>Cogeneración</td>\n",
       "      <td>13.3</td>\n",
       "      <td>5.6</td>\n",
       "      <td>2373</td>\n",
       "      <td>0.324</td>\n",
       "      <td>0.060</td>\n",
       "      <td>5849</td>\n",
       "      <td>0.406</td>\n",
       "    </tr>\n",
       "    <tr>\n",
       "      <th>6</th>\n",
       "      <td>Turbinación bombeo</td>\n",
       "      <td>4.8</td>\n",
       "      <td>3.3</td>\n",
       "      <td>1449</td>\n",
       "      <td>0.198</td>\n",
       "      <td>0.021</td>\n",
       "      <td>1671</td>\n",
       "      <td>0.867</td>\n",
       "    </tr>\n",
       "  </tbody>\n",
       "</table>\n",
       "</div>"
      ],
      "text/plain": [
       "           tecnologia  gen_TWh  pot_GW horas_gen     FC  %_mix horas_max  \\\n",
       "0              Eólica     50.7    31.6      1622  0.222  0.227      1838   \n",
       "1             Nuclear     44.2     7.1      6212  0.849  0.198      7320   \n",
       "2  Solar fotovoltaica     39.7    29.6      1402  0.192  0.178      1671   \n",
       "3          Hidráulica     29.3    17.1      1710  0.234  0.131      3342   \n",
       "4     Ciclo combinado     26.1    26.3       989  0.135  0.117      5013   \n",
       "7               Resto     15.2     8.5      None   None  0.068      None   \n",
       "5        Cogeneración     13.3     5.6      2373  0.324  0.060      5849   \n",
       "6  Turbinación bombeo      4.8     3.3      1449  0.198  0.021      1671   \n",
       "\n",
       "  FC_rel  \n",
       "0  0.882  \n",
       "1  0.849  \n",
       "2  0.839  \n",
       "3  0.512  \n",
       "4  0.197  \n",
       "7   None  \n",
       "5  0.406  \n",
       "6  0.867  "
      ]
     },
     "execution_count": 60,
     "metadata": {},
     "output_type": "execute_result"
    }
   ],
   "source": [
    "df_out_ratio_select_mix"
   ]
  },
  {
   "cell_type": "code",
   "execution_count": 67,
   "metadata": {},
   "outputs": [],
   "source": [
    "colores_tecnologia['Resto']= '#D3D3D3'"
   ]
  },
  {
   "cell_type": "code",
   "execution_count": 72,
   "metadata": {},
   "outputs": [
    {
     "data": {
      "application/vnd.plotly.v1+json": {
       "config": {
        "plotlyServerURL": "https://plot.ly"
       },
       "data": [
        {
         "customdata": [
          [
           "Eólica"
          ],
          [
           "Nuclear"
          ],
          [
           "Solar fotovoltaica"
          ],
          [
           "Hidráulica"
          ],
          [
           "Ciclo combinado"
          ],
          [
           "Resto"
          ],
          [
           "Cogeneración"
          ],
          [
           "Turbinación bombeo"
          ]
         ],
         "domain": {
          "x": [
           0,
           1
          ],
          "y": [
           0,
           1
          ]
         },
         "hole": 0.4,
         "hovertemplate": "<b>%{hovertext}</b><br><br>tecnologia=%{customdata[0]}<br>%_mix=%{value}<extra></extra>",
         "hovertext": [
          "Eólica",
          "Nuclear",
          "Solar fotovoltaica",
          "Hidráulica",
          "Ciclo combinado",
          "Resto",
          "Cogeneración",
          "Turbinación bombeo"
         ],
         "labels": [
          "Eólica",
          "Nuclear",
          "Solar fotovoltaica",
          "Hidráulica",
          "Ciclo combinado",
          "Resto",
          "Cogeneración",
          "Turbinación bombeo"
         ],
         "legendgroup": "",
         "marker": {
          "colors": [
           "#09ab3b",
           "#ff2b2b",
           "#ff8700",
           "#4be4ff",
           "#555867",
           "#D3D3D3",
           "#6d3fc0",
           "#004280"
          ]
         },
         "name": "",
         "showlegend": true,
         "textinfo": "percent+label",
         "type": "pie",
         "values": [
          0.227,
          0.198,
          0.178,
          0.131,
          0.117,
          0.068,
          0.06,
          0.021
         ]
        }
       ],
       "layout": {
        "legend": {
         "tracegroupgap": 0
        },
        "margin": {
         "t": 60
        },
        "template": {
         "data": {
          "bar": [
           {
            "error_x": {
             "color": "#2a3f5f"
            },
            "error_y": {
             "color": "#2a3f5f"
            },
            "marker": {
             "line": {
              "color": "#E5ECF6",
              "width": 0.5
             },
             "pattern": {
              "fillmode": "overlay",
              "size": 10,
              "solidity": 0.2
             }
            },
            "type": "bar"
           }
          ],
          "barpolar": [
           {
            "marker": {
             "line": {
              "color": "#E5ECF6",
              "width": 0.5
             },
             "pattern": {
              "fillmode": "overlay",
              "size": 10,
              "solidity": 0.2
             }
            },
            "type": "barpolar"
           }
          ],
          "carpet": [
           {
            "aaxis": {
             "endlinecolor": "#2a3f5f",
             "gridcolor": "white",
             "linecolor": "white",
             "minorgridcolor": "white",
             "startlinecolor": "#2a3f5f"
            },
            "baxis": {
             "endlinecolor": "#2a3f5f",
             "gridcolor": "white",
             "linecolor": "white",
             "minorgridcolor": "white",
             "startlinecolor": "#2a3f5f"
            },
            "type": "carpet"
           }
          ],
          "choropleth": [
           {
            "colorbar": {
             "outlinewidth": 0,
             "ticks": ""
            },
            "type": "choropleth"
           }
          ],
          "contour": [
           {
            "colorbar": {
             "outlinewidth": 0,
             "ticks": ""
            },
            "colorscale": [
             [
              0,
              "#0d0887"
             ],
             [
              0.1111111111111111,
              "#46039f"
             ],
             [
              0.2222222222222222,
              "#7201a8"
             ],
             [
              0.3333333333333333,
              "#9c179e"
             ],
             [
              0.4444444444444444,
              "#bd3786"
             ],
             [
              0.5555555555555556,
              "#d8576b"
             ],
             [
              0.6666666666666666,
              "#ed7953"
             ],
             [
              0.7777777777777778,
              "#fb9f3a"
             ],
             [
              0.8888888888888888,
              "#fdca26"
             ],
             [
              1,
              "#f0f921"
             ]
            ],
            "type": "contour"
           }
          ],
          "contourcarpet": [
           {
            "colorbar": {
             "outlinewidth": 0,
             "ticks": ""
            },
            "type": "contourcarpet"
           }
          ],
          "heatmap": [
           {
            "colorbar": {
             "outlinewidth": 0,
             "ticks": ""
            },
            "colorscale": [
             [
              0,
              "#0d0887"
             ],
             [
              0.1111111111111111,
              "#46039f"
             ],
             [
              0.2222222222222222,
              "#7201a8"
             ],
             [
              0.3333333333333333,
              "#9c179e"
             ],
             [
              0.4444444444444444,
              "#bd3786"
             ],
             [
              0.5555555555555556,
              "#d8576b"
             ],
             [
              0.6666666666666666,
              "#ed7953"
             ],
             [
              0.7777777777777778,
              "#fb9f3a"
             ],
             [
              0.8888888888888888,
              "#fdca26"
             ],
             [
              1,
              "#f0f921"
             ]
            ],
            "type": "heatmap"
           }
          ],
          "heatmapgl": [
           {
            "colorbar": {
             "outlinewidth": 0,
             "ticks": ""
            },
            "colorscale": [
             [
              0,
              "#0d0887"
             ],
             [
              0.1111111111111111,
              "#46039f"
             ],
             [
              0.2222222222222222,
              "#7201a8"
             ],
             [
              0.3333333333333333,
              "#9c179e"
             ],
             [
              0.4444444444444444,
              "#bd3786"
             ],
             [
              0.5555555555555556,
              "#d8576b"
             ],
             [
              0.6666666666666666,
              "#ed7953"
             ],
             [
              0.7777777777777778,
              "#fb9f3a"
             ],
             [
              0.8888888888888888,
              "#fdca26"
             ],
             [
              1,
              "#f0f921"
             ]
            ],
            "type": "heatmapgl"
           }
          ],
          "histogram": [
           {
            "marker": {
             "pattern": {
              "fillmode": "overlay",
              "size": 10,
              "solidity": 0.2
             }
            },
            "type": "histogram"
           }
          ],
          "histogram2d": [
           {
            "colorbar": {
             "outlinewidth": 0,
             "ticks": ""
            },
            "colorscale": [
             [
              0,
              "#0d0887"
             ],
             [
              0.1111111111111111,
              "#46039f"
             ],
             [
              0.2222222222222222,
              "#7201a8"
             ],
             [
              0.3333333333333333,
              "#9c179e"
             ],
             [
              0.4444444444444444,
              "#bd3786"
             ],
             [
              0.5555555555555556,
              "#d8576b"
             ],
             [
              0.6666666666666666,
              "#ed7953"
             ],
             [
              0.7777777777777778,
              "#fb9f3a"
             ],
             [
              0.8888888888888888,
              "#fdca26"
             ],
             [
              1,
              "#f0f921"
             ]
            ],
            "type": "histogram2d"
           }
          ],
          "histogram2dcontour": [
           {
            "colorbar": {
             "outlinewidth": 0,
             "ticks": ""
            },
            "colorscale": [
             [
              0,
              "#0d0887"
             ],
             [
              0.1111111111111111,
              "#46039f"
             ],
             [
              0.2222222222222222,
              "#7201a8"
             ],
             [
              0.3333333333333333,
              "#9c179e"
             ],
             [
              0.4444444444444444,
              "#bd3786"
             ],
             [
              0.5555555555555556,
              "#d8576b"
             ],
             [
              0.6666666666666666,
              "#ed7953"
             ],
             [
              0.7777777777777778,
              "#fb9f3a"
             ],
             [
              0.8888888888888888,
              "#fdca26"
             ],
             [
              1,
              "#f0f921"
             ]
            ],
            "type": "histogram2dcontour"
           }
          ],
          "mesh3d": [
           {
            "colorbar": {
             "outlinewidth": 0,
             "ticks": ""
            },
            "type": "mesh3d"
           }
          ],
          "parcoords": [
           {
            "line": {
             "colorbar": {
              "outlinewidth": 0,
              "ticks": ""
             }
            },
            "type": "parcoords"
           }
          ],
          "pie": [
           {
            "automargin": true,
            "type": "pie"
           }
          ],
          "scatter": [
           {
            "fillpattern": {
             "fillmode": "overlay",
             "size": 10,
             "solidity": 0.2
            },
            "type": "scatter"
           }
          ],
          "scatter3d": [
           {
            "line": {
             "colorbar": {
              "outlinewidth": 0,
              "ticks": ""
             }
            },
            "marker": {
             "colorbar": {
              "outlinewidth": 0,
              "ticks": ""
             }
            },
            "type": "scatter3d"
           }
          ],
          "scattercarpet": [
           {
            "marker": {
             "colorbar": {
              "outlinewidth": 0,
              "ticks": ""
             }
            },
            "type": "scattercarpet"
           }
          ],
          "scattergeo": [
           {
            "marker": {
             "colorbar": {
              "outlinewidth": 0,
              "ticks": ""
             }
            },
            "type": "scattergeo"
           }
          ],
          "scattergl": [
           {
            "marker": {
             "colorbar": {
              "outlinewidth": 0,
              "ticks": ""
             }
            },
            "type": "scattergl"
           }
          ],
          "scattermapbox": [
           {
            "marker": {
             "colorbar": {
              "outlinewidth": 0,
              "ticks": ""
             }
            },
            "type": "scattermapbox"
           }
          ],
          "scatterpolar": [
           {
            "marker": {
             "colorbar": {
              "outlinewidth": 0,
              "ticks": ""
             }
            },
            "type": "scatterpolar"
           }
          ],
          "scatterpolargl": [
           {
            "marker": {
             "colorbar": {
              "outlinewidth": 0,
              "ticks": ""
             }
            },
            "type": "scatterpolargl"
           }
          ],
          "scatterternary": [
           {
            "marker": {
             "colorbar": {
              "outlinewidth": 0,
              "ticks": ""
             }
            },
            "type": "scatterternary"
           }
          ],
          "surface": [
           {
            "colorbar": {
             "outlinewidth": 0,
             "ticks": ""
            },
            "colorscale": [
             [
              0,
              "#0d0887"
             ],
             [
              0.1111111111111111,
              "#46039f"
             ],
             [
              0.2222222222222222,
              "#7201a8"
             ],
             [
              0.3333333333333333,
              "#9c179e"
             ],
             [
              0.4444444444444444,
              "#bd3786"
             ],
             [
              0.5555555555555556,
              "#d8576b"
             ],
             [
              0.6666666666666666,
              "#ed7953"
             ],
             [
              0.7777777777777778,
              "#fb9f3a"
             ],
             [
              0.8888888888888888,
              "#fdca26"
             ],
             [
              1,
              "#f0f921"
             ]
            ],
            "type": "surface"
           }
          ],
          "table": [
           {
            "cells": {
             "fill": {
              "color": "#EBF0F8"
             },
             "line": {
              "color": "white"
             }
            },
            "header": {
             "fill": {
              "color": "#C8D4E3"
             },
             "line": {
              "color": "white"
             }
            },
            "type": "table"
           }
          ]
         },
         "layout": {
          "annotationdefaults": {
           "arrowcolor": "#2a3f5f",
           "arrowhead": 0,
           "arrowwidth": 1
          },
          "autotypenumbers": "strict",
          "coloraxis": {
           "colorbar": {
            "outlinewidth": 0,
            "ticks": ""
           }
          },
          "colorscale": {
           "diverging": [
            [
             0,
             "#8e0152"
            ],
            [
             0.1,
             "#c51b7d"
            ],
            [
             0.2,
             "#de77ae"
            ],
            [
             0.3,
             "#f1b6da"
            ],
            [
             0.4,
             "#fde0ef"
            ],
            [
             0.5,
             "#f7f7f7"
            ],
            [
             0.6,
             "#e6f5d0"
            ],
            [
             0.7,
             "#b8e186"
            ],
            [
             0.8,
             "#7fbc41"
            ],
            [
             0.9,
             "#4d9221"
            ],
            [
             1,
             "#276419"
            ]
           ],
           "sequential": [
            [
             0,
             "#0d0887"
            ],
            [
             0.1111111111111111,
             "#46039f"
            ],
            [
             0.2222222222222222,
             "#7201a8"
            ],
            [
             0.3333333333333333,
             "#9c179e"
            ],
            [
             0.4444444444444444,
             "#bd3786"
            ],
            [
             0.5555555555555556,
             "#d8576b"
            ],
            [
             0.6666666666666666,
             "#ed7953"
            ],
            [
             0.7777777777777778,
             "#fb9f3a"
            ],
            [
             0.8888888888888888,
             "#fdca26"
            ],
            [
             1,
             "#f0f921"
            ]
           ],
           "sequentialminus": [
            [
             0,
             "#0d0887"
            ],
            [
             0.1111111111111111,
             "#46039f"
            ],
            [
             0.2222222222222222,
             "#7201a8"
            ],
            [
             0.3333333333333333,
             "#9c179e"
            ],
            [
             0.4444444444444444,
             "#bd3786"
            ],
            [
             0.5555555555555556,
             "#d8576b"
            ],
            [
             0.6666666666666666,
             "#ed7953"
            ],
            [
             0.7777777777777778,
             "#fb9f3a"
            ],
            [
             0.8888888888888888,
             "#fdca26"
            ],
            [
             1,
             "#f0f921"
            ]
           ]
          },
          "colorway": [
           "#636efa",
           "#EF553B",
           "#00cc96",
           "#ab63fa",
           "#FFA15A",
           "#19d3f3",
           "#FF6692",
           "#B6E880",
           "#FF97FF",
           "#FECB52"
          ],
          "font": {
           "color": "#2a3f5f"
          },
          "geo": {
           "bgcolor": "white",
           "lakecolor": "white",
           "landcolor": "#E5ECF6",
           "showlakes": true,
           "showland": true,
           "subunitcolor": "white"
          },
          "hoverlabel": {
           "align": "left"
          },
          "hovermode": "closest",
          "mapbox": {
           "style": "light"
          },
          "paper_bgcolor": "white",
          "plot_bgcolor": "#E5ECF6",
          "polar": {
           "angularaxis": {
            "gridcolor": "white",
            "linecolor": "white",
            "ticks": ""
           },
           "bgcolor": "#E5ECF6",
           "radialaxis": {
            "gridcolor": "white",
            "linecolor": "white",
            "ticks": ""
           }
          },
          "scene": {
           "xaxis": {
            "backgroundcolor": "#E5ECF6",
            "gridcolor": "white",
            "gridwidth": 2,
            "linecolor": "white",
            "showbackground": true,
            "ticks": "",
            "zerolinecolor": "white"
           },
           "yaxis": {
            "backgroundcolor": "#E5ECF6",
            "gridcolor": "white",
            "gridwidth": 2,
            "linecolor": "white",
            "showbackground": true,
            "ticks": "",
            "zerolinecolor": "white"
           },
           "zaxis": {
            "backgroundcolor": "#E5ECF6",
            "gridcolor": "white",
            "gridwidth": 2,
            "linecolor": "white",
            "showbackground": true,
            "ticks": "",
            "zerolinecolor": "white"
           }
          },
          "shapedefaults": {
           "line": {
            "color": "#2a3f5f"
           }
          },
          "ternary": {
           "aaxis": {
            "gridcolor": "white",
            "linecolor": "white",
            "ticks": ""
           },
           "baxis": {
            "gridcolor": "white",
            "linecolor": "white",
            "ticks": ""
           },
           "bgcolor": "#E5ECF6",
           "caxis": {
            "gridcolor": "white",
            "linecolor": "white",
            "ticks": ""
           }
          },
          "title": {
           "x": 0.05
          },
          "xaxis": {
           "automargin": true,
           "gridcolor": "white",
           "linecolor": "white",
           "ticks": "",
           "title": {
            "standoff": 15
           },
           "zerolinecolor": "white",
           "zerolinewidth": 2
          },
          "yaxis": {
           "automargin": true,
           "gridcolor": "white",
           "linecolor": "white",
           "ticks": "",
           "title": {
            "standoff": 15
           },
           "zerolinecolor": "white",
           "zerolinewidth": 2
          }
         }
        }
       }
      }
     },
     "metadata": {},
     "output_type": "display_data"
    }
   ],
   "source": [
    "graf_mix_queso=px.pie(df_out_ratio_select_mix, names='tecnologia', values='%_mix',\n",
    "                    color='tecnologia',\n",
    "                    color_discrete_map=colores_tecnologia,\n",
    "                    hover_name='tecnologia',\n",
    "                                      \n",
    "                    hole=.4\n",
    "                    )\n",
    "\n",
    "graf_mix_queso.update_traces(textinfo='percent+label')\n",
    "\n",
    "\n",
    "graf_mix_queso"
   ]
  },
  {
   "cell_type": "code",
   "execution_count": 73,
   "metadata": {},
   "outputs": [
    {
     "data": {
      "application/vnd.plotly.v1+json": {
       "config": {
        "plotlyServerURL": "https://plot.ly"
       },
       "data": [
        {
         "marker": {
          "color": [
           "#555867",
           "#4be4ff",
           "#ff2b2b",
           "#ff8700",
           "#004280",
           "#09ab3b",
           "#6d3fc0"
          ]
         },
         "opacity": 0.7,
         "orientation": "h",
         "textposition": "inside",
         "type": "bar",
         "width": 0.4,
         "x": [
          0.197,
          0.406,
          0.882,
          0.512,
          0.849,
          0.839,
          0.867
         ],
         "y": [
          "Ciclo combinado",
          "Cogeneración",
          "Eólica",
          "Hidráulica",
          "Nuclear",
          "Solar fotovoltaica",
          "Turbinación bombeo"
         ]
        },
        {
         "marker": {
          "color": [
           "#555867",
           "#4be4ff",
           "#ff2b2b",
           "#ff8700",
           "#004280",
           "#09ab3b",
           "#6d3fc0"
          ]
         },
         "opacity": 1,
         "orientation": "h",
         "textposition": "inside",
         "type": "bar",
         "width": 0.8,
         "x": [
          0.135,
          0.324,
          0.222,
          0.234,
          0.849,
          0.192,
          0.198
         ],
         "y": [
          "Ciclo combinado",
          "Cogeneración",
          "Eólica",
          "Hidráulica",
          "Nuclear",
          "Solar fotovoltaica",
          "Turbinación bombeo"
         ]
        }
       ],
       "layout": {
        "bargap": 0.7,
        "barmode": "overlay",
        "template": {
         "data": {
          "bar": [
           {
            "error_x": {
             "color": "#2a3f5f"
            },
            "error_y": {
             "color": "#2a3f5f"
            },
            "marker": {
             "line": {
              "color": "#E5ECF6",
              "width": 0.5
             },
             "pattern": {
              "fillmode": "overlay",
              "size": 10,
              "solidity": 0.2
             }
            },
            "type": "bar"
           }
          ],
          "barpolar": [
           {
            "marker": {
             "line": {
              "color": "#E5ECF6",
              "width": 0.5
             },
             "pattern": {
              "fillmode": "overlay",
              "size": 10,
              "solidity": 0.2
             }
            },
            "type": "barpolar"
           }
          ],
          "carpet": [
           {
            "aaxis": {
             "endlinecolor": "#2a3f5f",
             "gridcolor": "white",
             "linecolor": "white",
             "minorgridcolor": "white",
             "startlinecolor": "#2a3f5f"
            },
            "baxis": {
             "endlinecolor": "#2a3f5f",
             "gridcolor": "white",
             "linecolor": "white",
             "minorgridcolor": "white",
             "startlinecolor": "#2a3f5f"
            },
            "type": "carpet"
           }
          ],
          "choropleth": [
           {
            "colorbar": {
             "outlinewidth": 0,
             "ticks": ""
            },
            "type": "choropleth"
           }
          ],
          "contour": [
           {
            "colorbar": {
             "outlinewidth": 0,
             "ticks": ""
            },
            "colorscale": [
             [
              0,
              "#0d0887"
             ],
             [
              0.1111111111111111,
              "#46039f"
             ],
             [
              0.2222222222222222,
              "#7201a8"
             ],
             [
              0.3333333333333333,
              "#9c179e"
             ],
             [
              0.4444444444444444,
              "#bd3786"
             ],
             [
              0.5555555555555556,
              "#d8576b"
             ],
             [
              0.6666666666666666,
              "#ed7953"
             ],
             [
              0.7777777777777778,
              "#fb9f3a"
             ],
             [
              0.8888888888888888,
              "#fdca26"
             ],
             [
              1,
              "#f0f921"
             ]
            ],
            "type": "contour"
           }
          ],
          "contourcarpet": [
           {
            "colorbar": {
             "outlinewidth": 0,
             "ticks": ""
            },
            "type": "contourcarpet"
           }
          ],
          "heatmap": [
           {
            "colorbar": {
             "outlinewidth": 0,
             "ticks": ""
            },
            "colorscale": [
             [
              0,
              "#0d0887"
             ],
             [
              0.1111111111111111,
              "#46039f"
             ],
             [
              0.2222222222222222,
              "#7201a8"
             ],
             [
              0.3333333333333333,
              "#9c179e"
             ],
             [
              0.4444444444444444,
              "#bd3786"
             ],
             [
              0.5555555555555556,
              "#d8576b"
             ],
             [
              0.6666666666666666,
              "#ed7953"
             ],
             [
              0.7777777777777778,
              "#fb9f3a"
             ],
             [
              0.8888888888888888,
              "#fdca26"
             ],
             [
              1,
              "#f0f921"
             ]
            ],
            "type": "heatmap"
           }
          ],
          "heatmapgl": [
           {
            "colorbar": {
             "outlinewidth": 0,
             "ticks": ""
            },
            "colorscale": [
             [
              0,
              "#0d0887"
             ],
             [
              0.1111111111111111,
              "#46039f"
             ],
             [
              0.2222222222222222,
              "#7201a8"
             ],
             [
              0.3333333333333333,
              "#9c179e"
             ],
             [
              0.4444444444444444,
              "#bd3786"
             ],
             [
              0.5555555555555556,
              "#d8576b"
             ],
             [
              0.6666666666666666,
              "#ed7953"
             ],
             [
              0.7777777777777778,
              "#fb9f3a"
             ],
             [
              0.8888888888888888,
              "#fdca26"
             ],
             [
              1,
              "#f0f921"
             ]
            ],
            "type": "heatmapgl"
           }
          ],
          "histogram": [
           {
            "marker": {
             "pattern": {
              "fillmode": "overlay",
              "size": 10,
              "solidity": 0.2
             }
            },
            "type": "histogram"
           }
          ],
          "histogram2d": [
           {
            "colorbar": {
             "outlinewidth": 0,
             "ticks": ""
            },
            "colorscale": [
             [
              0,
              "#0d0887"
             ],
             [
              0.1111111111111111,
              "#46039f"
             ],
             [
              0.2222222222222222,
              "#7201a8"
             ],
             [
              0.3333333333333333,
              "#9c179e"
             ],
             [
              0.4444444444444444,
              "#bd3786"
             ],
             [
              0.5555555555555556,
              "#d8576b"
             ],
             [
              0.6666666666666666,
              "#ed7953"
             ],
             [
              0.7777777777777778,
              "#fb9f3a"
             ],
             [
              0.8888888888888888,
              "#fdca26"
             ],
             [
              1,
              "#f0f921"
             ]
            ],
            "type": "histogram2d"
           }
          ],
          "histogram2dcontour": [
           {
            "colorbar": {
             "outlinewidth": 0,
             "ticks": ""
            },
            "colorscale": [
             [
              0,
              "#0d0887"
             ],
             [
              0.1111111111111111,
              "#46039f"
             ],
             [
              0.2222222222222222,
              "#7201a8"
             ],
             [
              0.3333333333333333,
              "#9c179e"
             ],
             [
              0.4444444444444444,
              "#bd3786"
             ],
             [
              0.5555555555555556,
              "#d8576b"
             ],
             [
              0.6666666666666666,
              "#ed7953"
             ],
             [
              0.7777777777777778,
              "#fb9f3a"
             ],
             [
              0.8888888888888888,
              "#fdca26"
             ],
             [
              1,
              "#f0f921"
             ]
            ],
            "type": "histogram2dcontour"
           }
          ],
          "mesh3d": [
           {
            "colorbar": {
             "outlinewidth": 0,
             "ticks": ""
            },
            "type": "mesh3d"
           }
          ],
          "parcoords": [
           {
            "line": {
             "colorbar": {
              "outlinewidth": 0,
              "ticks": ""
             }
            },
            "type": "parcoords"
           }
          ],
          "pie": [
           {
            "automargin": true,
            "type": "pie"
           }
          ],
          "scatter": [
           {
            "fillpattern": {
             "fillmode": "overlay",
             "size": 10,
             "solidity": 0.2
            },
            "type": "scatter"
           }
          ],
          "scatter3d": [
           {
            "line": {
             "colorbar": {
              "outlinewidth": 0,
              "ticks": ""
             }
            },
            "marker": {
             "colorbar": {
              "outlinewidth": 0,
              "ticks": ""
             }
            },
            "type": "scatter3d"
           }
          ],
          "scattercarpet": [
           {
            "marker": {
             "colorbar": {
              "outlinewidth": 0,
              "ticks": ""
             }
            },
            "type": "scattercarpet"
           }
          ],
          "scattergeo": [
           {
            "marker": {
             "colorbar": {
              "outlinewidth": 0,
              "ticks": ""
             }
            },
            "type": "scattergeo"
           }
          ],
          "scattergl": [
           {
            "marker": {
             "colorbar": {
              "outlinewidth": 0,
              "ticks": ""
             }
            },
            "type": "scattergl"
           }
          ],
          "scattermapbox": [
           {
            "marker": {
             "colorbar": {
              "outlinewidth": 0,
              "ticks": ""
             }
            },
            "type": "scattermapbox"
           }
          ],
          "scatterpolar": [
           {
            "marker": {
             "colorbar": {
              "outlinewidth": 0,
              "ticks": ""
             }
            },
            "type": "scatterpolar"
           }
          ],
          "scatterpolargl": [
           {
            "marker": {
             "colorbar": {
              "outlinewidth": 0,
              "ticks": ""
             }
            },
            "type": "scatterpolargl"
           }
          ],
          "scatterternary": [
           {
            "marker": {
             "colorbar": {
              "outlinewidth": 0,
              "ticks": ""
             }
            },
            "type": "scatterternary"
           }
          ],
          "surface": [
           {
            "colorbar": {
             "outlinewidth": 0,
             "ticks": ""
            },
            "colorscale": [
             [
              0,
              "#0d0887"
             ],
             [
              0.1111111111111111,
              "#46039f"
             ],
             [
              0.2222222222222222,
              "#7201a8"
             ],
             [
              0.3333333333333333,
              "#9c179e"
             ],
             [
              0.4444444444444444,
              "#bd3786"
             ],
             [
              0.5555555555555556,
              "#d8576b"
             ],
             [
              0.6666666666666666,
              "#ed7953"
             ],
             [
              0.7777777777777778,
              "#fb9f3a"
             ],
             [
              0.8888888888888888,
              "#fdca26"
             ],
             [
              1,
              "#f0f921"
             ]
            ],
            "type": "surface"
           }
          ],
          "table": [
           {
            "cells": {
             "fill": {
              "color": "#EBF0F8"
             },
             "line": {
              "color": "white"
             }
            },
            "header": {
             "fill": {
              "color": "#C8D4E3"
             },
             "line": {
              "color": "white"
             }
            },
            "type": "table"
           }
          ]
         },
         "layout": {
          "annotationdefaults": {
           "arrowcolor": "#2a3f5f",
           "arrowhead": 0,
           "arrowwidth": 1
          },
          "autotypenumbers": "strict",
          "coloraxis": {
           "colorbar": {
            "outlinewidth": 0,
            "ticks": ""
           }
          },
          "colorscale": {
           "diverging": [
            [
             0,
             "#8e0152"
            ],
            [
             0.1,
             "#c51b7d"
            ],
            [
             0.2,
             "#de77ae"
            ],
            [
             0.3,
             "#f1b6da"
            ],
            [
             0.4,
             "#fde0ef"
            ],
            [
             0.5,
             "#f7f7f7"
            ],
            [
             0.6,
             "#e6f5d0"
            ],
            [
             0.7,
             "#b8e186"
            ],
            [
             0.8,
             "#7fbc41"
            ],
            [
             0.9,
             "#4d9221"
            ],
            [
             1,
             "#276419"
            ]
           ],
           "sequential": [
            [
             0,
             "#0d0887"
            ],
            [
             0.1111111111111111,
             "#46039f"
            ],
            [
             0.2222222222222222,
             "#7201a8"
            ],
            [
             0.3333333333333333,
             "#9c179e"
            ],
            [
             0.4444444444444444,
             "#bd3786"
            ],
            [
             0.5555555555555556,
             "#d8576b"
            ],
            [
             0.6666666666666666,
             "#ed7953"
            ],
            [
             0.7777777777777778,
             "#fb9f3a"
            ],
            [
             0.8888888888888888,
             "#fdca26"
            ],
            [
             1,
             "#f0f921"
            ]
           ],
           "sequentialminus": [
            [
             0,
             "#0d0887"
            ],
            [
             0.1111111111111111,
             "#46039f"
            ],
            [
             0.2222222222222222,
             "#7201a8"
            ],
            [
             0.3333333333333333,
             "#9c179e"
            ],
            [
             0.4444444444444444,
             "#bd3786"
            ],
            [
             0.5555555555555556,
             "#d8576b"
            ],
            [
             0.6666666666666666,
             "#ed7953"
            ],
            [
             0.7777777777777778,
             "#fb9f3a"
            ],
            [
             0.8888888888888888,
             "#fdca26"
            ],
            [
             1,
             "#f0f921"
            ]
           ]
          },
          "colorway": [
           "#636efa",
           "#EF553B",
           "#00cc96",
           "#ab63fa",
           "#FFA15A",
           "#19d3f3",
           "#FF6692",
           "#B6E880",
           "#FF97FF",
           "#FECB52"
          ],
          "font": {
           "color": "#2a3f5f"
          },
          "geo": {
           "bgcolor": "white",
           "lakecolor": "white",
           "landcolor": "#E5ECF6",
           "showlakes": true,
           "showland": true,
           "subunitcolor": "white"
          },
          "hoverlabel": {
           "align": "left"
          },
          "hovermode": "closest",
          "mapbox": {
           "style": "light"
          },
          "paper_bgcolor": "white",
          "plot_bgcolor": "#E5ECF6",
          "polar": {
           "angularaxis": {
            "gridcolor": "white",
            "linecolor": "white",
            "ticks": ""
           },
           "bgcolor": "#E5ECF6",
           "radialaxis": {
            "gridcolor": "white",
            "linecolor": "white",
            "ticks": ""
           }
          },
          "scene": {
           "xaxis": {
            "backgroundcolor": "#E5ECF6",
            "gridcolor": "white",
            "gridwidth": 2,
            "linecolor": "white",
            "showbackground": true,
            "ticks": "",
            "zerolinecolor": "white"
           },
           "yaxis": {
            "backgroundcolor": "#E5ECF6",
            "gridcolor": "white",
            "gridwidth": 2,
            "linecolor": "white",
            "showbackground": true,
            "ticks": "",
            "zerolinecolor": "white"
           },
           "zaxis": {
            "backgroundcolor": "#E5ECF6",
            "gridcolor": "white",
            "gridwidth": 2,
            "linecolor": "white",
            "showbackground": true,
            "ticks": "",
            "zerolinecolor": "white"
           }
          },
          "shapedefaults": {
           "line": {
            "color": "#2a3f5f"
           }
          },
          "ternary": {
           "aaxis": {
            "gridcolor": "white",
            "linecolor": "white",
            "ticks": ""
           },
           "baxis": {
            "gridcolor": "white",
            "linecolor": "white",
            "ticks": ""
           },
           "bgcolor": "#E5ECF6",
           "caxis": {
            "gridcolor": "white",
            "linecolor": "white",
            "ticks": ""
           }
          },
          "title": {
           "x": 0.05
          },
          "xaxis": {
           "automargin": true,
           "gridcolor": "white",
           "linecolor": "white",
           "ticks": "",
           "title": {
            "standoff": 15
           },
           "zerolinecolor": "white",
           "zerolinewidth": 2
          },
          "yaxis": {
           "automargin": true,
           "gridcolor": "white",
           "linecolor": "white",
           "ticks": "",
           "title": {
            "standoff": 15
           },
           "zerolinecolor": "white",
           "zerolinewidth": 2
          }
         }
        },
        "title": {
         "text": "Factor de carga (%)",
         "x": 0.5,
         "xanchor": "center"
        }
       }
      }
     },
     "metadata": {},
     "output_type": "display_data"
    }
   ],
   "source": [
    "graf_FC_bis=go.Figure()\n",
    "\n",
    "graf_FC_bis.add_trace(go.Bar(\n",
    "                    \n",
    "                    x=df_out_ratio_select['FC_rel'],\n",
    "                    y=df_out_ratio_select['tecnologia'],\n",
    "                    orientation='h',\n",
    "                    marker=dict(color=colores),\n",
    "                        #color_discrete_map=colores_tecnologia,\n",
    "                     \n",
    "                    #hover_name=df_out_ratio_select['tecnologia'],\n",
    "                    \n",
    "                    #width=1300,\n",
    "                    #text_auto=True,\n",
    "                    width=.4,\n",
    "                    opacity=.7                    \n",
    "                    ))\n",
    "graf_FC_bis.add_trace(go.Bar(\n",
    "                    \n",
    "                    x=df_out_ratio_select['FC'],\n",
    "                    y=df_out_ratio_select['tecnologia'],\n",
    "                    orientation='h',\n",
    "                    marker=dict(color=colores),\n",
    "                    width=.8,\n",
    "                    opacity=1\n",
    "                    #width=1300,\n",
    "                    #text_auto=True,\n",
    "                    \n",
    "                    #   barmode='overlay'\n",
    "                    ))\n",
    "\n",
    "\n",
    "\n",
    "graf_FC_bis.update_traces(\n",
    "    #text=df_out_ratio_select.index,  # Usa los índices (tecnologías) como texto\n",
    "    textposition='inside',  # Coloca el texto en el centro de las burbujas\n",
    "    #textfont=dict(size=12, color=\"black\"),  # Tamaño y color del texto\n",
    "    \n",
    "    )\n",
    "graf_FC_bis.update_layout(\n",
    "    title=dict(\n",
    "        text='Factor de carga (%)',\n",
    "        x=.5,\n",
    "        xanchor='center',\n",
    "    ),\n",
    "    bargap=.7,\n",
    "    barmode='overlay'\n",
    ")"
   ]
  }
 ],
 "metadata": {
  "kernelspec": {
   "display_name": "base",
   "language": "python",
   "name": "python3"
  },
  "language_info": {
   "codemirror_mode": {
    "name": "ipython",
    "version": 3
   },
   "file_extension": ".py",
   "mimetype": "text/x-python",
   "name": "python",
   "nbconvert_exporter": "python",
   "pygments_lexer": "ipython3",
   "version": "3.11.4"
  }
 },
 "nbformat": 4,
 "nbformat_minor": 2
}
